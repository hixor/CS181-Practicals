{
 "cells": [
  {
   "cell_type": "code",
   "execution_count": 48,
   "metadata": {
    "ExecuteTime": {
     "end_time": "2017-03-04T16:39:38.571640",
     "start_time": "2017-03-04T16:39:34.953142"
    },
    "collapsed": false,
    "deletable": true,
    "editable": true,
    "run_control": {
     "frozen": false,
     "read_only": false
    }
   },
   "outputs": [],
   "source": [
    "import numpy as np\n",
    "import pandas as pd\n",
    "import matplotlib.pyplot as plt\n",
    "import csv\n",
    "from os import system\n",
    "import keras\n",
    "import scipy.io"
   ]
  },
  {
   "cell_type": "code",
   "execution_count": 16,
   "metadata": {
    "ExecuteTime": {
     "end_time": "2017-03-04T10:22:00.645939",
     "start_time": "2017-03-04T10:22:00.639228"
    },
    "collapsed": false
   },
   "outputs": [],
   "source": [
    "import xml.etree.ElementTree as ET\n",
    "import classification_starter as start"
   ]
  },
  {
   "cell_type": "code",
   "execution_count": 32,
   "metadata": {
    "ExecuteTime": {
     "end_time": "2017-03-04T11:41:00.809276",
     "start_time": "2017-03-04T11:41:00.798232"
    },
    "collapsed": true
   },
   "outputs": [],
   "source": [
    "import os\n",
    "from collections import Counter\n",
    "try:\n",
    "    import xml.etree.cElementTree as ET\n",
    "except ImportError:\n",
    "    import xml.etree.ElementTree as ET\n",
    "import numpy as np\n",
    "from scipy import sparse\n",
    "\n",
    "import util"
   ]
  },
  {
   "cell_type": "code",
   "execution_count": 28,
   "metadata": {
    "ExecuteTime": {
     "end_time": "2017-03-04T11:40:17.523428",
     "start_time": "2017-03-04T11:40:17.497788"
    },
    "code_folding": [],
    "collapsed": true,
    "run_control": {
     "marked": true
    }
   },
   "outputs": [],
   "source": [
    "def extract_feats(ffs, direc=\"train\", global_feat_dict=None):\n",
    "\n",
    "    fds = [] # list of feature dicts\n",
    "    classes = []\n",
    "    ids = [] \n",
    "    for datafile in os.listdir(direc):\n",
    "        # extract id and true class (if available) from filename\n",
    "        id_str,clazz = datafile.split('.')[:2]\n",
    "        ids.append(id_str)\n",
    "        # add target class if this is training data\n",
    "        try:\n",
    "            classes.append(util.malware_classes.index(clazz))\n",
    "        except ValueError:\n",
    "            # we should only fail to find the label in our list of malware classes\n",
    "            # if this is test data, which always has an \"X\" label\n",
    "            assert clazz == \"X\"\n",
    "            classes.append(-1)\n",
    "        rowfd = {}\n",
    "        # parse file as an xml document\n",
    "        tree = ET.parse(os.path.join(direc,datafile))\n",
    "        # accumulate features\n",
    "        [rowfd.update(ff(tree)) for ff in ffs]\n",
    "        fds.append(rowfd)\n",
    "        \n",
    "    X,feat_dict = make_design_mat(fds,global_feat_dict)\n",
    "    return X, feat_dict, np.array(classes), ids"
   ]
  },
  {
   "cell_type": "code",
   "execution_count": 29,
   "metadata": {
    "ExecuteTime": {
     "end_time": "2017-03-04T11:40:18.431344",
     "start_time": "2017-03-04T11:40:18.379936"
    },
    "code_folding": [
     0
    ],
    "collapsed": true
   },
   "outputs": [],
   "source": [
    "def make_design_mat(fds, global_feat_dict=None):\n",
    "\n",
    "    if global_feat_dict is None:\n",
    "        all_feats = set()\n",
    "        [all_feats.update(fd.keys()) for fd in fds]\n",
    "        feat_dict = dict([(feat, i) for i, feat in enumerate(sorted(all_feats))])\n",
    "    else:\n",
    "        feat_dict = global_feat_dict\n",
    "        \n",
    "    cols = []\n",
    "    rows = []\n",
    "    data = []        \n",
    "    for i in xrange(len(fds)):\n",
    "        temp_cols = []\n",
    "        temp_data = []\n",
    "        for feat,val in fds[i].iteritems():\n",
    "            try:\n",
    "                # update temp_cols iff update temp_data\n",
    "                temp_cols.append(feat_dict[feat])\n",
    "                temp_data.append(val)\n",
    "            except KeyError as ex:\n",
    "                if global_feat_dict is not None:\n",
    "                    pass  # new feature in test data; nbd\n",
    "                else:\n",
    "                    raise ex\n",
    "\n",
    "        # all fd's features in the same row\n",
    "        k = len(temp_cols)\n",
    "        cols.extend(temp_cols)\n",
    "        data.extend(temp_data)\n",
    "        rows.extend([i]*k)\n",
    "\n",
    "    assert len(cols) == len(rows) and len(rows) == len(data)\n",
    "   \n",
    "\n",
    "    X = sparse.csr_matrix((np.array(data),\n",
    "                   (np.array(rows), np.array(cols))),\n",
    "                   shape=(len(fds), len(feat_dict)))\n",
    "    return X, feat_dict\n",
    "    \n",
    "\n",
    "## Here are two example feature-functions. They each take an xml.etree.ElementTree object, \n",
    "# (i.e., the result of parsing an xml file) and returns a dictionary mapping \n",
    "# feature-names to numeric values.\n",
    "## TODO: modify these functions, and/or add new ones."
   ]
  },
  {
   "cell_type": "code",
   "execution_count": 26,
   "metadata": {
    "ExecuteTime": {
     "end_time": "2017-03-04T11:40:12.803492",
     "start_time": "2017-03-04T11:40:12.783839"
    },
    "code_folding": [
     0
    ],
    "collapsed": true
   },
   "outputs": [],
   "source": [
    "def first_last_system_call_feats(tree):\n",
    "\n",
    "    c = Counter()\n",
    "    in_all_section = False\n",
    "    first = True # is this the first system call\n",
    "    last_call = None # keep track of last call we've seen\n",
    "    for el in tree.iter():\n",
    "        # ignore everything outside the \"all_section\" element\n",
    "        if el.tag == \"all_section\" and not in_all_section:\n",
    "            in_all_section = True\n",
    "        elif el.tag == \"all_section\" and in_all_section:\n",
    "            in_all_section = False\n",
    "        elif in_all_section:\n",
    "            if first:\n",
    "                c[\"first_call-\"+el.tag] = 1\n",
    "                first = False\n",
    "            last_call = el.tag  # update last call seen\n",
    "            \n",
    "    # finally, mark last call seen\n",
    "    c[\"last_call-\"+last_call] = 1\n",
    "    return c"
   ]
  },
  {
   "cell_type": "code",
   "execution_count": 27,
   "metadata": {
    "ExecuteTime": {
     "end_time": "2017-03-04T11:40:14.901362",
     "start_time": "2017-03-04T11:40:14.888085"
    },
    "code_folding": [
     0
    ],
    "collapsed": true
   },
   "outputs": [],
   "source": [
    "def system_call_count_feats(tree):\n",
    "\n",
    "    c = Counter()\n",
    "    in_all_section = False\n",
    "    for el in tree.iter():\n",
    "        # ignore everything outside the \"all_section\" element\n",
    "        if el.tag == \"all_section\" and not in_all_section:\n",
    "            in_all_section = True\n",
    "        elif el.tag == \"all_section\" and in_all_section:\n",
    "            in_all_section = False\n",
    "        elif in_all_section:\n",
    "            c['num_system_calls'] += 1\n",
    "    return c"
   ]
  },
  {
   "cell_type": "code",
   "execution_count": 13,
   "metadata": {
    "ExecuteTime": {
     "end_time": "2017-03-04T10:15:28.141746",
     "start_time": "2017-03-04T10:15:28.132468"
    },
    "code_folding": [
     0,
     2,
     29
    ],
    "collapsed": false,
    "hide_input": false,
    "run_control": {
     "marked": true
    }
   },
   "outputs": [
    {
     "name": "stdout",
     "output_type": "stream",
     "text": [
      "/Users/hikarisorensen/Dropbox/00_Pika/CS 181/cs181-s17-hixor/p2\n"
     ]
    }
   ],
   "source": [
    "## MAIN ------------------------------\n",
    "##The following function does the feature extraction, learning, and prediction\n",
    "def main():\n",
    "    train_dir = \"train\"\n",
    "    test_dir = \"test\"\n",
    "    outputfile = \"mypredictions.csv\"  # feel free to change this or take it as an argument\n",
    "    \n",
    "    # TODO put the names of the feature functions you've defined above in this list\n",
    "    ffs = [first_last_system_call_feats, system_call_count_feats]\n",
    "    \n",
    "    # extract features\n",
    "    print \"extracting training features...\"\n",
    "    X_train,global_feat_dict,t_train,train_ids = extract_feats(ffs, train_dir)\n",
    "    print \"done extracting training features\"\n",
    "    print\n",
    "    \n",
    "    # TODO train here, and learn your classification parameters\n",
    "    print \"learning...\"\n",
    "    learned_W = np.random.random((len(global_feat_dict),len(util.malware_classes)))\n",
    "    print \"done learning\"\n",
    "    print\n",
    "    \n",
    "#     # get rid of training data and load test data\n",
    "#     del X_train\n",
    "#     del t_train\n",
    "#     del train_ids\n",
    "#     print \"extracting test features...\"\n",
    "#     X_test,_,t_ignore,test_ids = extract_feats(ffs, test_dir, global_feat_dict=global_feat_dict)\n",
    "#     print \"done extracting test features\"\n",
    "#     print\n",
    "    \n",
    "#     # TODO make predictions on text data and write them out\n",
    "#     print \"making predictions...\"\n",
    "#     preds = np.argmax(X_test.dot(learned_W),axis=1)\n",
    "#     print \"done making predictions\"\n",
    "#     print\n",
    "    \n",
    "#     print \"writing predictions...\"\n",
    "#     util.write_predictions(preds, test_ids, outputfile)\n",
    "#     print \"done!\"\n",
    "\n",
    "if __name__ == \"__main__\":\n",
    "    main()\n",
    "    "
   ]
  },
  {
   "cell_type": "code",
   "execution_count": 34,
   "metadata": {
    "ExecuteTime": {
     "end_time": "2017-03-04T11:48:15.447703",
     "start_time": "2017-03-04T11:45:42.864059"
    },
    "collapsed": false
   },
   "outputs": [],
   "source": [
    "train_dir = \"train\"\n",
    "test_dir = \"test\"\n",
    "\n",
    "ffs = [first_last_system_call_feats, system_call_count_feats]\n",
    "X_train,global_feat_dict,t_train,train_ids = extract_feats(ffs, train_dir)"
   ]
  },
  {
   "cell_type": "code",
   "execution_count": 42,
   "metadata": {
    "ExecuteTime": {
     "end_time": "2017-03-04T16:33:38.752522",
     "start_time": "2017-03-04T16:33:38.727451"
    },
    "collapsed": false
   },
   "outputs": [],
   "source": [
    "with open('t_train_starter.csv', 'wb') as starter_t:\n",
    "    wr = csv.writer(starter_t)\n",
    "    wr.writerow(t_train)"
   ]
  },
  {
   "cell_type": "code",
   "execution_count": 43,
   "metadata": {
    "ExecuteTime": {
     "end_time": "2017-03-04T16:34:17.441592",
     "start_time": "2017-03-04T16:34:17.429015"
    },
    "collapsed": true
   },
   "outputs": [],
   "source": [
    "with open('train_ids_starter.csv', 'wb') as starter_ids:\n",
    "    wr = csv.writer(starter_ids)\n",
    "    wr.writerow(train_ids)"
   ]
  },
  {
   "cell_type": "code",
   "execution_count": 44,
   "metadata": {
    "ExecuteTime": {
     "end_time": "2017-03-04T16:35:12.237022",
     "start_time": "2017-03-04T16:35:11.839994"
    },
    "collapsed": false
   },
   "outputs": [
    {
     "ename": "PandasError",
     "evalue": "DataFrame constructor not properly called!",
     "output_type": "error",
     "traceback": [
      "\u001b[0;31m---------------------------------------------------------------------------\u001b[0m",
      "\u001b[0;31mPandasError\u001b[0m                               Traceback (most recent call last)",
      "\u001b[0;32m<ipython-input-44-80d2bfa44173>\u001b[0m in \u001b[0;36m<module>\u001b[0;34m()\u001b[0m\n\u001b[0;32m----> 1\u001b[0;31m \u001b[0mdf_X_train\u001b[0m \u001b[0;34m=\u001b[0m \u001b[0mpd\u001b[0m\u001b[0;34m.\u001b[0m\u001b[0mDataFrame\u001b[0m\u001b[0;34m(\u001b[0m\u001b[0mX_train\u001b[0m\u001b[0;34m)\u001b[0m\u001b[0;34m\u001b[0m\u001b[0m\n\u001b[0m",
      "\u001b[0;32m/usr/local/lib/python2.7/site-packages/pandas/core/frame.pyc\u001b[0m in \u001b[0;36m__init__\u001b[0;34m(self, data, index, columns, dtype, copy)\u001b[0m\n\u001b[1;32m    344\u001b[0m                                          copy=False)\n\u001b[1;32m    345\u001b[0m             \u001b[0;32melse\u001b[0m\u001b[0;34m:\u001b[0m\u001b[0;34m\u001b[0m\u001b[0m\n\u001b[0;32m--> 346\u001b[0;31m                 \u001b[0;32mraise\u001b[0m \u001b[0mPandasError\u001b[0m\u001b[0;34m(\u001b[0m\u001b[0;34m'DataFrame constructor not properly called!'\u001b[0m\u001b[0;34m)\u001b[0m\u001b[0;34m\u001b[0m\u001b[0m\n\u001b[0m\u001b[1;32m    347\u001b[0m \u001b[0;34m\u001b[0m\u001b[0m\n\u001b[1;32m    348\u001b[0m         \u001b[0mNDFrame\u001b[0m\u001b[0;34m.\u001b[0m\u001b[0m__init__\u001b[0m\u001b[0;34m(\u001b[0m\u001b[0mself\u001b[0m\u001b[0;34m,\u001b[0m \u001b[0mmgr\u001b[0m\u001b[0;34m,\u001b[0m \u001b[0mfastpath\u001b[0m\u001b[0;34m=\u001b[0m\u001b[0mTrue\u001b[0m\u001b[0;34m)\u001b[0m\u001b[0;34m\u001b[0m\u001b[0m\n",
      "\u001b[0;31mPandasError\u001b[0m: DataFrame constructor not properly called!"
     ]
    }
   ],
   "source": [
    "df_X_train = pd.DataFrame(X_train)"
   ]
  },
  {
   "cell_type": "code",
   "execution_count": 49,
   "metadata": {
    "ExecuteTime": {
     "end_time": "2017-03-04T16:39:43.487815",
     "start_time": "2017-03-04T16:39:43.331680"
    },
    "collapsed": false
   },
   "outputs": [],
   "source": [
    "scipy.io.mmwrite(\"X_train_starter.csv\", X_train)"
   ]
  },
  {
   "cell_type": "code",
   "execution_count": 10,
   "metadata": {
    "ExecuteTime": {
     "end_time": "2017-03-04T10:08:03.554579",
     "start_time": "2017-03-04T10:08:03.502124"
    },
    "collapsed": false,
    "deletable": true,
    "editable": true,
    "run_control": {
     "frozen": false,
     "read_only": false
    },
    "scrolled": true
   },
   "outputs": [
    {
     "name": "stdout",
     "output_type": "stream",
     "text": [
      "process {'username': 'Administrator', 'index': '1', 'sha1': '0069ea50001a6c699d0222032d45b74b2e7e8be9', 'parentindex': '0', 'terminationtime': '00:10.547', 'filename_hash': 'hash_error', 'pid': '1952', 'filename': 'c:\\\\1025be1934a50c3355adb359507f2862.EX', 'filesize': '149270', 'starttime': '00:01.704', 'terminationreason': 'NormalTermination', 'executionstatus': 'OK', 'startreason': 'AnalysisTarget', 'md5': '1025be1934a50c3355adb359507f2862', 'applicationtype': 'Win32Application'}\n",
      "process {'username': 'SYSTEM', 'index': '2', 'sha1': '97c7c354c12b89c797740b35ed81879be58f3deb', 'parentindex': '0', 'terminationtime': '00:15.000', 'filename_hash': '49083ae3725a0488e0a8fbbe1335c745f70c4667', 'pid': '984', 'filename': 'C:\\\\WINDOWS\\\\system32\\\\svchost.exe', 'filesize': '14336', 'starttime': '00:08.579', 'terminationreason': 'Timeout', 'executionstatus': 'OK', 'startreason': 'DCOMService', 'md5': '4fbc75b74479c7a6f829e0ca19df3366'}\n",
      "process {'username': 'Administrator', 'index': '3', 'parentindex': '1', 'terminationtime': '00:11.297', 'filename_hash': '9d2bf84874abc5b6e9a2744b7865c193c08d362f', 'pid': '2224', 'filename': u'C:\\\\WINDOWS\\\\explorer.exe C:\\\\Program Files\\\\Photron\\\\StoneMeister V4.0\\\\\\x95\\xe6\\x90\\xce\\x95\\x94\\x95i\\\\', 'filesize': '-1', 'starttime': '00:09.938', 'terminationreason': 'NormalTermination', 'executionstatus': 'OK', 'startreason': 'CreateProcess'}\n"
     ]
    }
   ],
   "source": [
    "tree = ET.parse(\"./train/00269ea50001a6c699d0222032d45b74b2e7e8be9.None.xml\")\n",
    "root = tree.getroot()\n",
    "for child in root:\n",
    "    print child.tag, child.attrib"
   ]
  },
  {
   "cell_type": "code",
   "execution_count": 23,
   "metadata": {
    "ExecuteTime": {
     "end_time": "2017-03-04T11:31:26.710158",
     "start_time": "2017-03-04T11:31:26.702930"
    },
    "collapsed": true,
    "deletable": true,
    "editable": true,
    "run_control": {
     "frozen": false,
     "read_only": false
    }
   },
   "outputs": [],
   "source": [
    "mypreds = pd.read_csv('mypredictions.csv',nrows=10)"
   ]
  },
  {
   "cell_type": "code",
   "execution_count": 24,
   "metadata": {
    "ExecuteTime": {
     "end_time": "2017-03-04T11:31:26.831615",
     "start_time": "2017-03-04T11:31:26.751870"
    },
    "collapsed": false
   },
   "outputs": [
    {
     "data": {
      "text/html": [
       "<div>\n",
       "<table border=\"1\" class=\"dataframe\">\n",
       "  <thead>\n",
       "    <tr style=\"text-align: right;\">\n",
       "      <th></th>\n",
       "      <th>Id</th>\n",
       "      <th>Prediction</th>\n",
       "    </tr>\n",
       "  </thead>\n",
       "  <tbody>\n",
       "    <tr>\n",
       "      <th>0</th>\n",
       "      <td>0015c8c9ff02fea9d0f45692b9eebfb4abff4e42f</td>\n",
       "      <td>6</td>\n",
       "    </tr>\n",
       "    <tr>\n",
       "      <th>1</th>\n",
       "      <td>001f298a534ae4b0db7f2707169250aa215c3b5f2</td>\n",
       "      <td>6</td>\n",
       "    </tr>\n",
       "    <tr>\n",
       "      <th>2</th>\n",
       "      <td>001f5fdaaa8bbe20303527198d09a30bb7ca3eb50</td>\n",
       "      <td>6</td>\n",
       "    </tr>\n",
       "    <tr>\n",
       "      <th>3</th>\n",
       "      <td>002ca2c41b649f85c05ae30013436781a932fecc6</td>\n",
       "      <td>6</td>\n",
       "    </tr>\n",
       "    <tr>\n",
       "      <th>4</th>\n",
       "      <td>003e109543b4ea22d2bcc1ec309bf2fd34e9a1a1d</td>\n",
       "      <td>6</td>\n",
       "    </tr>\n",
       "    <tr>\n",
       "      <th>5</th>\n",
       "      <td>004070b468d6bb29848c76cfCd5887849c7bb648d</td>\n",
       "      <td>6</td>\n",
       "    </tr>\n",
       "    <tr>\n",
       "      <th>6</th>\n",
       "      <td>00461dd05c981edde167a5947c365472141e04bb1</td>\n",
       "      <td>6</td>\n",
       "    </tr>\n",
       "    <tr>\n",
       "      <th>7</th>\n",
       "      <td>005b95d2520C8621171566f5803437b0c443778e1</td>\n",
       "      <td>6</td>\n",
       "    </tr>\n",
       "    <tr>\n",
       "      <th>8</th>\n",
       "      <td>0071a3b818ed06d3865a24fdb31d4147c67fabfc5</td>\n",
       "      <td>6</td>\n",
       "    </tr>\n",
       "    <tr>\n",
       "      <th>9</th>\n",
       "      <td>007436715ec13cedd38344772a2144a3d79f3ea68</td>\n",
       "      <td>6</td>\n",
       "    </tr>\n",
       "  </tbody>\n",
       "</table>\n",
       "</div>"
      ],
      "text/plain": [
       "                                          Id  Prediction\n",
       "0  0015c8c9ff02fea9d0f45692b9eebfb4abff4e42f           6\n",
       "1  001f298a534ae4b0db7f2707169250aa215c3b5f2           6\n",
       "2  001f5fdaaa8bbe20303527198d09a30bb7ca3eb50           6\n",
       "3  002ca2c41b649f85c05ae30013436781a932fecc6           6\n",
       "4  003e109543b4ea22d2bcc1ec309bf2fd34e9a1a1d           6\n",
       "5  004070b468d6bb29848c76cfCd5887849c7bb648d           6\n",
       "6  00461dd05c981edde167a5947c365472141e04bb1           6\n",
       "7  005b95d2520C8621171566f5803437b0c443778e1           6\n",
       "8  0071a3b818ed06d3865a24fdb31d4147c67fabfc5           6\n",
       "9  007436715ec13cedd38344772a2144a3d79f3ea68           6"
      ]
     },
     "execution_count": 24,
     "metadata": {},
     "output_type": "execute_result"
    }
   ],
   "source": [
    "mypreds"
   ]
  },
  {
   "cell_type": "code",
   "execution_count": null,
   "metadata": {
    "collapsed": true
   },
   "outputs": [],
   "source": []
  }
 ],
 "metadata": {
  "anaconda-cloud": {},
  "hide_input": false,
  "kernelspec": {
   "display_name": "Python [default]",
   "language": "python",
   "name": "python2"
  },
  "language_info": {
   "codemirror_mode": {
    "name": "ipython",
    "version": 2
   },
   "file_extension": ".py",
   "mimetype": "text/x-python",
   "name": "python",
   "nbconvert_exporter": "python",
   "pygments_lexer": "ipython2",
   "version": "2.7.13"
  },
  "latex_envs": {
   "LaTeX_envs_menu_present": true,
   "autocomplete": true,
   "bibliofile": "biblio.bib",
   "cite_by": "apalike",
   "current_citInitial": 1,
   "eqLabelWithNumbers": true,
   "eqNumInitial": 1,
   "hotkeys": {
    "equation": "Ctrl-E",
    "itemize": "Ctrl-I"
   },
   "labels_anchors": false,
   "latex_user_defs": false,
   "report_style_numbering": false,
   "user_envs_cfg": false
  },
  "toc": {
   "colors": {
    "hover_highlight": "#DAA520",
    "running_highlight": "#FF0000",
    "selected_highlight": "#FFD700"
   },
   "moveMenuLeft": true,
   "nav_menu": {
    "height": "12px",
    "width": "252px"
   },
   "navigate_menu": true,
   "number_sections": true,
   "sideBar": true,
   "threshold": 4,
   "toc_cell": false,
   "toc_section_display": "block",
   "toc_window_display": false
  }
 },
 "nbformat": 4,
 "nbformat_minor": 2
}
