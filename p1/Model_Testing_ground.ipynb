{
 "cells": [
  {
   "cell_type": "code",
   "execution_count": 2,
   "metadata": {
    "collapsed": true
   },
   "outputs": [],
   "source": [
    "from sklearn import linear_model\n",
    "from sklearn.metrics import mean_squared_error\n",
    "from sklearn.ensemble import GradientBoostingRegressor\n",
    "import sklearn.ensemble\n",
    "import xgboost as xgb\n",
    "from xgboost.sklearn import XGBClassifier\n",
    "import matplotlib.pyplot as plt\n",
    "import numpy as np\n",
    "import pandas as pd\n",
    "%matplotlib inline"
   ]
  },
  {
   "cell_type": "code",
   "execution_count": 1,
   "metadata": {
    "collapsed": true
   },
   "outputs": [],
   "source": [
    "from rdkit import Chem, DataStructs\n",
    "from rdkit.Chem import AllChem"
   ]
  },
  {
   "cell_type": "code",
   "execution_count": 12,
   "metadata": {
    "collapsed": false
   },
   "outputs": [],
   "source": [
    "trainfile = \"train.csv\"\n",
    "testfile = \"test.csv\"\n",
    "\n",
    "data = pd.read_csv(trainfile)\n",
    "testdata = pd.read_csv(testfile)\n",
    "names = data['smiles']\n",
    "testnames = testdata['smiles']\n",
    "testId = testdata['Id']\n",
    "data = data.drop('smiles',1)\n",
    "test = testdata.drop(['smiles','Id'],1)\n",
    "ytrain = data['gap']\n",
    "xtrain = data.drop('gap',1)"
   ]
  },
  {
   "cell_type": "code",
   "execution_count": 11,
   "metadata": {
    "collapsed": true
   },
   "outputs": [
    {
     "data": {
      "text/plain": [
       "<bound method DataFrame.head of             Id  feat_001  feat_002  feat_003  feat_004  feat_005  feat_006  \\\n",
       "0            1         0         0         0         0         1         1   \n",
       "1            2         0         0         0         0         1         1   \n",
       "2            3         1         0         0         0         1         1   \n",
       "3            4         1         0         0         0         1         1   \n",
       "4            5         0         0         0         0         1         0   \n",
       "5            6         1         0         0         0         1         0   \n",
       "6            7         1         0         0         0         1         1   \n",
       "7            8         1         0         0         0         1         0   \n",
       "8            9         0         0         0         0         1         0   \n",
       "9           10         0         0         0         0         1         1   \n",
       "10          11         1         0         0         0         1         1   \n",
       "11          12         1         0         0         0         1         0   \n",
       "12          13         1         0         0         0         1         1   \n",
       "13          14         1         0         0         0         1         0   \n",
       "14          15         0         0         0         0         1         1   \n",
       "15          16         1         0         0         0         1         1   \n",
       "16          17         0         0         0         0         1         1   \n",
       "17          18         0         0         0         0         1         0   \n",
       "18          19         1         0         0         0         1         0   \n",
       "19          20         0         0         0         0         1         1   \n",
       "20          21         1         0         0         0         1         1   \n",
       "21          22         0         0         0         0         1         0   \n",
       "22          23         0         0         0         0         1         0   \n",
       "23          24         1         0         0         0         1         0   \n",
       "24          25         0         0         0         0         1         0   \n",
       "25          26         1         0         0         0         1         1   \n",
       "26          27         0         0         0         0         1         1   \n",
       "27          28         1         0         0         0         1         0   \n",
       "28          29         0         0         0         0         1         0   \n",
       "29          30         0         0         0         0         1         1   \n",
       "...        ...       ...       ...       ...       ...       ...       ...   \n",
       "824200  824201         1         0         0         0         1         1   \n",
       "824201  824202         1         0         0         0         1         1   \n",
       "824202  824203         1         0         0         0         1         0   \n",
       "824203  824204         0         0         0         0         1         0   \n",
       "824204  824205         0         0         0         0         1         1   \n",
       "824205  824206         0         0         0         0         1         1   \n",
       "824206  824207         0         0         0         0         1         1   \n",
       "824207  824208         1         0         0         0         1         1   \n",
       "824208  824209         0         0         0         0         1         1   \n",
       "824209  824210         1         0         0         0         1         1   \n",
       "824210  824211         0         0         0         0         1         0   \n",
       "824211  824212         1         0         0         0         1         0   \n",
       "824212  824213         1         0         0         0         1         0   \n",
       "824213  824214         1         0         0         0         1         1   \n",
       "824214  824215         1         0         0         0         1         1   \n",
       "824215  824216         0         0         0         0         1         1   \n",
       "824216  824217         1         0         0         0         1         1   \n",
       "824217  824218         1         0         0         0         1         0   \n",
       "824218  824219         0         0         0         0         1         1   \n",
       "824219  824220         0         0         0         0         1         1   \n",
       "824220  824221         0         0         0         0         1         0   \n",
       "824221  824222         1         0         0         0         1         1   \n",
       "824222  824223         1         0         0         0         1         1   \n",
       "824223  824224         0         0         0         0         1         1   \n",
       "824224  824225         0         0         0         0         1         0   \n",
       "824225  824226         0         0         0         0         1         1   \n",
       "824226  824227         1         0         0         0         1         0   \n",
       "824227  824228         0         0         0         0         1         1   \n",
       "824228  824229         1         0         0         0         1         0   \n",
       "824229  824230         0         0         0         0         1         1   \n",
       "\n",
       "        feat_007  feat_008  feat_009    ...     feat_247  feat_248  feat_249  \\\n",
       "0              1         0         0    ...            0         1         0   \n",
       "1              1         0         0    ...            0         1         0   \n",
       "2              1         0         0    ...            0         1         0   \n",
       "3              1         0         0    ...            0         1         0   \n",
       "4              1         0         0    ...            0         1         0   \n",
       "5              1         0         0    ...            0         1         0   \n",
       "6              1         0         0    ...            0         1         0   \n",
       "7              1         0         0    ...            0         1         0   \n",
       "8              1         0         0    ...            0         1         0   \n",
       "9              1         0         0    ...            0         1         0   \n",
       "10             1         0         0    ...            0         0         0   \n",
       "11             1         0         0    ...            0         1         0   \n",
       "12             1         0         0    ...            0         1         0   \n",
       "13             1         0         0    ...            0         1         0   \n",
       "14             1         0         0    ...            0         1         0   \n",
       "15             1         0         0    ...            0         1         0   \n",
       "16             1         0         0    ...            0         1         0   \n",
       "17             1         0         0    ...            0         1         0   \n",
       "18             1         0         0    ...            0         1         0   \n",
       "19             1         0         0    ...            0         1         0   \n",
       "20             1         0         0    ...            0         1         0   \n",
       "21             1         0         0    ...            0         1         0   \n",
       "22             1         0         0    ...            0         1         0   \n",
       "23             1         0         0    ...            0         1         0   \n",
       "24             1         0         0    ...            0         1         0   \n",
       "25             1         0         0    ...            0         1         0   \n",
       "26             1         0         0    ...            0         1         0   \n",
       "27             1         0         0    ...            0         1         0   \n",
       "28             1         0         0    ...            0         1         0   \n",
       "29             1         0         0    ...            0         1         0   \n",
       "...          ...       ...       ...    ...          ...       ...       ...   \n",
       "824200         1         0         0    ...            0         1         0   \n",
       "824201         1         0         0    ...            0         1         0   \n",
       "824202         1         0         0    ...            0         1         0   \n",
       "824203         1         0         0    ...            0         1         0   \n",
       "824204         1         0         0    ...            0         1         0   \n",
       "824205         1         0         0    ...            0         1         0   \n",
       "824206         0         0         0    ...            0         0         0   \n",
       "824207         1         0         0    ...            0         1         0   \n",
       "824208         1         0         0    ...            0         1         0   \n",
       "824209         1         0         0    ...            0         1         0   \n",
       "824210         1         0         0    ...            0         1         0   \n",
       "824211         1         0         0    ...            0         1         0   \n",
       "824212         1         0         0    ...            0         1         0   \n",
       "824213         1         0         0    ...            0         1         0   \n",
       "824214         1         0         0    ...            0         1         0   \n",
       "824215         1         0         0    ...            0         1         0   \n",
       "824216         1         0         0    ...            0         1         0   \n",
       "824217         1         0         0    ...            0         1         0   \n",
       "824218         1         0         0    ...            0         1         0   \n",
       "824219         1         0         0    ...            0         1         0   \n",
       "824220         1         0         0    ...            0         1         0   \n",
       "824221         1         0         0    ...            0         1         0   \n",
       "824222         1         0         0    ...            0         1         0   \n",
       "824223         1         0         0    ...            0         1         0   \n",
       "824224         1         0         0    ...            0         1         0   \n",
       "824225         1         0         0    ...            0         1         0   \n",
       "824226         1         0         0    ...            0         1         0   \n",
       "824227         1         0         0    ...            0         1         0   \n",
       "824228         1         0         0    ...            0         1         0   \n",
       "824229         1         0         0    ...            0         1         0   \n",
       "\n",
       "        feat_250  feat_251  feat_252  feat_253  feat_254  feat_255  feat_256  \n",
       "0              0         0         0         0         0         0         0  \n",
       "1              0         0         0         0         0         0         0  \n",
       "2              0         0         0         0         0         0         0  \n",
       "3              0         0         0         0         0         0         0  \n",
       "4              0         0         0         0         0         0         0  \n",
       "5              0         1         0         0         0         0         0  \n",
       "6              0         0         0         0         0         0         0  \n",
       "7              0         1         0         0         0         0         0  \n",
       "8              0         0         0         0         0         0         0  \n",
       "9              0         0         0         0         0         0         0  \n",
       "10             0         1         0         0         0         0         0  \n",
       "11             0         0         0         0         0         0         0  \n",
       "12             0         0         0         0         0         0         0  \n",
       "13             0         1         0         0         0         0         0  \n",
       "14             0         0         0         0         0         0         0  \n",
       "15             0         0         1         0         0         0         0  \n",
       "16             0         0         0         0         0         0         0  \n",
       "17             0         0         0         0         0         0         0  \n",
       "18             0         0         0         0         0         0         0  \n",
       "19             0         0         0         0         0         0         0  \n",
       "20             0         0         1         0         0         0         0  \n",
       "21             0         0         0         0         0         0         0  \n",
       "22             0         0         0         0         0         0         0  \n",
       "23             0         0         0         0         0         0         0  \n",
       "24             0         0         0         0         0         0         0  \n",
       "25             0         0         0         0         0         0         0  \n",
       "26             0         0         0         0         0         0         0  \n",
       "27             0         0         0         0         0         0         0  \n",
       "28             0         0         0         0         0         0         0  \n",
       "29             0         0         0         0         0         0         0  \n",
       "...          ...       ...       ...       ...       ...       ...       ...  \n",
       "824200         0         1         0         0         0         0         0  \n",
       "824201         0         0         0         0         0         0         0  \n",
       "824202         0         1         0         0         0         0         0  \n",
       "824203         0         0         0         0         0         0         0  \n",
       "824204         0         0         0         0         0         0         0  \n",
       "824205         0         0         0         0         0         0         0  \n",
       "824206         0         0         0         0         0         0         0  \n",
       "824207         0         0         0         0         0         0         0  \n",
       "824208         0         0         0         0         0         0         0  \n",
       "824209         0         1         0         0         0         0         0  \n",
       "824210         0         0         0         0         0         0         0  \n",
       "824211         0         0         0         0         0         0         0  \n",
       "824212         0         0         0         0         0         0         0  \n",
       "824213         0         0         0         0         0         0         0  \n",
       "824214         0         1         0         0         0         0         0  \n",
       "824215         0         0         0         0         0         0         0  \n",
       "824216         0         1         0         0         0         0         0  \n",
       "824217         0         1         0         0         0         0         0  \n",
       "824218         0         0         0         0         0         0         0  \n",
       "824219         0         0         0         0         0         0         0  \n",
       "824220         0         0         0         0         0         0         0  \n",
       "824221         0         0         0         0         0         0         0  \n",
       "824222         0         0         0         0         0         0         0  \n",
       "824223         0         0         0         0         0         0         0  \n",
       "824224         0         0         0         0         0         0         0  \n",
       "824225         0         0         0         0         0         0         0  \n",
       "824226         0         1         0         0         0         0         0  \n",
       "824227         0         0         0         0         0         0         0  \n",
       "824228         0         1         0         0         0         0         0  \n",
       "824229         0         0         0         0         0         0         0  \n",
       "\n",
       "[824230 rows x 257 columns]>"
      ]
     },
     "execution_count": 11,
     "metadata": {},
     "output_type": "execute_result"
    }
   ],
   "source": [
    "test.head"
   ]
  },
  {
   "cell_type": "code",
   "execution_count": 13,
   "metadata": {
    "collapsed": false
   },
   "outputs": [],
   "source": [
    "rand_for = sklearn.ensemble.RandomForestRegressor()\n",
    "rand_for.fit(xtrain,ytrain)\n",
    "preds_rf = rand_for.predict(test)"
   ]
  },
  {
   "cell_type": "code",
   "execution_count": 14,
   "metadata": {
    "collapsed": true
   },
   "outputs": [],
   "source": [
    "xgtrain = xgb.DMatrix(xtrain, label=ytrain)\n",
    "xgtest = xgb.DMatrix(test)\n",
    "param = {'max_depth':100, 'eta':1, 'silent':0, 'objective':'reg:linear','learning_rate':0.6}\n",
    "num_round = 10\n",
    "xg = xgb.train(param, xgtrain, num_round)\n",
    "preds_xg = xg.predict(xgtest)"
   ]
  },
  {
   "cell_type": "code",
   "execution_count": 15,
   "metadata": {
    "collapsed": true
   },
   "outputs": [],
   "source": [
    "avg_pred = (preds_rf+preds_xg)/2"
   ]
  },
  {
   "cell_type": "code",
   "execution_count": 16,
   "metadata": {
    "collapsed": false
   },
   "outputs": [
    {
     "data": {
      "text/plain": [
       "array([ 1.46628764,  1.66040535,  1.55036319, ...,  1.46628764,\n",
       "        1.50621206,  1.82644941])"
      ]
     },
     "execution_count": 16,
     "metadata": {},
     "output_type": "execute_result"
    }
   ],
   "source": [
    "avg_pred"
   ]
  },
  {
   "cell_type": "code",
   "execution_count": 39,
   "metadata": {
    "collapsed": false
   },
   "outputs": [],
   "source": [
    "result = pd.DataFrame(testId)\n",
    "result['Prediction'] = avg_pred\n"
   ]
  },
  {
   "cell_type": "code",
   "execution_count": 40,
   "metadata": {
    "collapsed": false
   },
   "outputs": [],
   "source": [
    "result.to_csv('predictions.csv', index=None)"
   ]
  },
  {
   "cell_type": "code",
   "execution_count": null,
   "metadata": {
    "collapsed": true
   },
   "outputs": [],
   "source": [
    "mols = []\n",
    "for name in names.tolist():\n",
    "    m = Chem.MolFromSmiles(name)\n",
    "    mols.append(m)"
   ]
  }
 ],
 "metadata": {
  "hide_input": false,
  "kernelspec": {
   "display_name": "Python 2",
   "language": "python",
   "name": "python2"
  },
  "language_info": {
   "codemirror_mode": {
    "name": "ipython",
    "version": 2
   },
   "file_extension": ".py",
   "mimetype": "text/x-python",
   "name": "python",
   "nbconvert_exporter": "python",
   "pygments_lexer": "ipython2",
   "version": "2.7.13"
  },
  "latex_envs": {
   "bibliofile": "biblio.bib",
   "cite_by": "apalike",
   "current_citInitial": 1,
   "eqLabelWithNumbers": true,
   "eqNumInitial": 0
  },
  "toc": {
   "toc_cell": false,
   "toc_number_sections": true,
   "toc_threshold": 6,
   "toc_window_display": false
  }
 },
 "nbformat": 4,
 "nbformat_minor": 0
}
