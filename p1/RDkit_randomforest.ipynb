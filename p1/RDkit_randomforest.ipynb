{
 "cells": [
  {
   "cell_type": "code",
   "execution_count": 3,
   "metadata": {
    "collapsed": true
   },
   "outputs": [],
   "source": [
    "from sklearn import linear_model\n",
    "from sklearn.metrics import mean_squared_error\n",
    "from sklearn.ensemble import GradientBoostingRegressor\n",
    "import sklearn.ensemble\n",
    "import xgboost as xgb\n",
    "from xgboost.sklearn import XGBClassifier\n",
    "import matplotlib.pyplot as plt\n",
    "import numpy as np\n",
    "import pandas as pd\n",
    "%matplotlib inline\n",
    "from rdkit import Chem, DataStructs\n",
    "from rdkit.Chem import AllChem"
   ]
  },
  {
   "cell_type": "code",
   "execution_count": 4,
   "metadata": {
    "collapsed": true
   },
   "outputs": [],
   "source": [
    "trainset = pd.read_csv('train.csv')\n",
    "testset = pd.read_csv('test.csv')\n",
    "smiles_train = trainset['smiles']\n",
    "smiles_test = testset['smiles']\n",
    "testID = testset['Id']\n",
    "train = trainset.drop('smiles',1)\n",
    "test = testset.drop(['smiles','Id'],1)"
   ]
  },
  {
   "cell_type": "code",
   "execution_count": 5,
   "metadata": {
    "collapsed": true
   },
   "outputs": [],
   "source": [
    "smiles_train.to_csv(\"smiles_train.csv\")\n",
    "smiles_test.to_csv(\"smiles_test.csv\")\n",
    "testID.to_csv(\"testID.csv\")\n",
    "train.to_csv(\"train.csv\")\n",
    "test.to_csv(\"test.csv\")"
   ]
  },
  {
   "cell_type": "code",
   "execution_count": 6,
   "metadata": {
    "collapsed": true
   },
   "outputs": [],
   "source": [
    "ytrain = train['gap']\n",
    "xtrain = train.drop('gap',1)\n",
    "ytrain.to_csv(\"ytrain.csv\")\n",
    "xtrain.to_csv(\"xtrain.csv\")"
   ]
  },
  {
   "cell_type": "code",
   "execution_count": 8,
   "metadata": {
    "collapsed": false
   },
   "outputs": [],
   "source": [
    "smiles_all_train = []\n",
    "for i in range(9):\n",
    "    cut = smiles_train[i*100000:(i+1)*100000]\n",
    "    smiles_all_train.append(cut)\n",
    "pd.DataFrame(smiles_all_train).to_csv(\"smiles_all_train\")"
   ]
  },
  {
   "cell_type": "code",
   "execution_count": 9,
   "metadata": {
    "collapsed": false
   },
   "outputs": [],
   "source": [
    "smiles_all_test = []\n",
    "for i in range(7):\n",
    "    cut = smiles_test[i*100000:(i+1)*100000]\n",
    "    smiles_all_test.append(cut)\n",
    "final = smiles_test[800000:smiles_test.shape[0]]\n",
    "smiles_all_test.append(final)\n",
    "pd.DataFrame(smiles_all_test).to_csv(\"smiles_all_test\")"
   ]
  },
  {
   "cell_type": "code",
   "execution_count": 9,
   "metadata": {
    "collapsed": true
   },
   "outputs": [
    {
     "name": "stdout",
     "output_type": "stream",
     "text": [
      "Working on set...\n",
      "Finished set.\n",
      "Working on set...\n",
      "Finished set.\n",
      "Working on set...\n",
      "Finished set.\n",
      "Working on set...\n",
      "Finished set.\n",
      "Working on set...\n",
      "Finished set.\n",
      "Working on set...\n",
      "Finished set.\n",
      "Working on set...\n",
      "Finished set.\n",
      "Working on set...\n",
      "Finished set.\n",
      "Working on set...\n",
      "Finished set.\n",
      "Working on set...\n",
      "Finished set.\n"
     ]
    }
   ],
   "source": [
    "mols_t = []\n",
    "for smileset in smiles_all_train:\n",
    "    molset = []\n",
    "    print \"Working on set...\"\n",
    "    for smile in smileset:\n",
    "        m = Chem.MolFromSmiles(smile)\n",
    "        molset.append(m)\n",
    "    mols_t.append(molset)\n",
    "    print \"Finished set.\"\n",
    "mols_t.to_csv(\"mols_t.csv\")"
   ]
  },
  {
   "cell_type": "code",
   "execution_count": 17,
   "metadata": {
    "collapsed": true
   },
   "outputs": [
    {
     "name": "stdout",
     "output_type": "stream",
     "text": [
      "Working on set...\n",
      "Finished set.\n",
      "Working on set...\n",
      "Finished set.\n",
      "Working on set...\n",
      "Finished set.\n",
      "Working on set...\n",
      "Finished set.\n",
      "Working on set...\n",
      "Finished set.\n",
      "Working on set...\n",
      "Finished set.\n",
      "Working on set...\n",
      "Finished set.\n",
      "Working on set...\n",
      "Finished set.\n"
     ]
    }
   ],
   "source": [
    "mols_test = []\n",
    "for smileset in smiles_all_test:\n",
    "    molset = []\n",
    "    print \"Working on set...\"\n",
    "    for smile in smileset:\n",
    "        m = Chem.MolFromSmiles(smile)\n",
    "        molset.append(m)\n",
    "    mols_test.append(molset)\n",
    "    print \"Finished set.\"\n",
    "mols_test.to_csv(\"mols_test.csv\")"
   ]
  },
  {
   "cell_type": "code",
   "execution_count": 2,
   "metadata": {
    "collapsed": true
   },
   "outputs": [
    {
     "ename": "NameError",
     "evalue": "name 'smiles' is not defined",
     "output_type": "error",
     "traceback": [
      "\u001b[0;31m---------------------------------------------------------------------------\u001b[0m",
      "\u001b[0;31mNameError\u001b[0m                                 Traceback (most recent call last)",
      "\u001b[0;32m<ipython-input-2-47f22284067e>\u001b[0m in \u001b[0;36m<module>\u001b[0;34m()\u001b[0m\n\u001b[1;32m      1\u001b[0m \u001b[0mmols_demo\u001b[0m \u001b[0;34m=\u001b[0m \u001b[0;34m[\u001b[0m\u001b[0;34m]\u001b[0m\u001b[0;34m\u001b[0m\u001b[0m\n\u001b[1;32m      2\u001b[0m \u001b[0;34m\u001b[0m\u001b[0m\n\u001b[0;32m----> 3\u001b[0;31m \u001b[0;32mfor\u001b[0m \u001b[0msmile\u001b[0m \u001b[0;32min\u001b[0m \u001b[0msmiles\u001b[0m\u001b[0;34m[\u001b[0m\u001b[0;34m:\u001b[0m\u001b[0;36m100\u001b[0m\u001b[0;34m]\u001b[0m\u001b[0;34m:\u001b[0m\u001b[0;34m\u001b[0m\u001b[0m\n\u001b[0m\u001b[1;32m      4\u001b[0m     \u001b[0mm\u001b[0m \u001b[0;34m=\u001b[0m \u001b[0mChem\u001b[0m\u001b[0;34m.\u001b[0m\u001b[0mMolFromSmiles\u001b[0m\u001b[0;34m(\u001b[0m\u001b[0msmile\u001b[0m\u001b[0;34m)\u001b[0m\u001b[0;34m\u001b[0m\u001b[0m\n\u001b[1;32m      5\u001b[0m     \u001b[0mmols_demo\u001b[0m\u001b[0;34m.\u001b[0m\u001b[0mappend\u001b[0m\u001b[0;34m(\u001b[0m\u001b[0mm\u001b[0m\u001b[0;34m)\u001b[0m\u001b[0;34m\u001b[0m\u001b[0m\n",
      "\u001b[0;31mNameError\u001b[0m: name 'smiles' is not defined"
     ]
    }
   ],
   "source": [
    "mols_demo = []\n",
    "\n",
    "for smile in smiles_train[:100]:\n",
    "    m = Chem.MolFromSmiles(smile)\n",
    "    mols_demo.append(m)\n",
    "mols_demo.to_csv(\"mols_demo.csv\")\n",
    "print \"Finished set.\""
   ]
  },
  {
   "cell_type": "code",
   "execution_count": 18,
   "metadata": {
    "collapsed": true
   },
   "outputs": [],
   "source": [
    "train_feats = []\n",
    "for mol in mols_t:\n",
    "    feat = [AllChem.GetMorganFingerprintAsBitVect(m, 2) for m in mol]\n",
    "    train_feats.append(feat)    "
   ]
  },
  {
   "cell_type": "code",
   "execution_count": 19,
   "metadata": {
    "collapsed": true
   },
   "outputs": [],
   "source": [
    "test_feats = []\n",
    "for mol in mols_test:\n",
    "    feat = [AllChem.GetMorganFingerprintAsBitVect(m, 2) for m in mol]\n",
    "    test_feats.append(feat)"
   ]
  },
  {
   "cell_type": "code",
   "execution_count": null,
   "metadata": {
    "collapsed": true
   },
   "outputs": [],
   "source": [
    "temp_train = []\n",
    "\n",
    "for cut in train_feats:\n",
    "    for fp in cut:\n",
    "        arr = np.zeros((1,))\n",
    "        DataStructs.ConvertToNumpyArray(fp, arr)\n",
    "        arr.to_csv(\"train_feats.csv\",mode='a',header=False)\n",
    "    \n",
    "#training = pd.DataFrame(temp_train)"
   ]
  },
  {
   "cell_type": "code",
   "execution_count": null,
   "metadata": {
    "collapsed": true
   },
   "outputs": [],
   "source": [
    "temp_test = []\n",
    "\n",
    "for cut in test_feats:\n",
    "    for fp in cut:\n",
    "        arr = np.zeros((1,))\n",
    "        DataStructs.ConvertToNumpyArray(fp, arr)\n",
    "        temp_test.append(arr)\n",
    "testing = pd.DataFrame(temp_test)"
   ]
  },
  {
   "cell_type": "code",
   "execution_count": null,
   "metadata": {
    "collapsed": true
   },
   "outputs": [],
   "source": [
    "rand_for = sklearn.ensemble.RandomForestRegressor()\n",
    "rand_for.fit(eng_train,ytrain)\n",
    "preds_rf = rand_for.predict(eng_test) "
   ]
  }
 ],
 "metadata": {
  "hide_input": false,
  "kernelspec": {
   "display_name": "Python 2",
   "language": "python",
   "name": "python2"
  },
  "language_info": {
   "codemirror_mode": {
    "name": "ipython",
    "version": 2
   },
   "file_extension": ".py",
   "mimetype": "text/x-python",
   "name": "python",
   "nbconvert_exporter": "python",
   "pygments_lexer": "ipython2",
   "version": "2.7.13"
  },
  "latex_envs": {
   "bibliofile": "biblio.bib",
   "cite_by": "apalike",
   "current_citInitial": 1,
   "eqLabelWithNumbers": true,
   "eqNumInitial": 0
  },
  "toc": {
   "toc_cell": false,
   "toc_number_sections": true,
   "toc_threshold": 6,
   "toc_window_display": false
  }
 },
 "nbformat": 4,
 "nbformat_minor": 0
}
