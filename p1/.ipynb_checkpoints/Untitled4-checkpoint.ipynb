{
 "cells": [
  {
   "cell_type": "code",
   "execution_count": 2,
   "metadata": {
    "collapsed": true
   },
   "outputs": [],
   "source": [
    "from sklearn import linear_model\n",
    "from sklearn.metrics import mean_squared_error\n",
    "from sklearn.ensemble import GradientBoostingRegressor\n",
    "import sklearn.ensemble\n",
    "import xgboost as xgb\n",
    "from xgboost.sklearn import XGBClassifier\n",
    "import matplotlib.pyplot as plt\n",
    "import numpy as np\n",
    "import pandas as pd\n",
    "%matplotlib inline\n",
    "from rdkit import Chem, DataStructs\n",
    "from rdkit.Chem import AllChem\n",
    "from rdkit.Chem import rdMolDescriptors as desc\n",
    "from rdkit.DataStructs import cDataStructs as ds\n",
    "from rdkit.DataStructs import UIntSparseIntVect as usv\n"
   ]
  },
  {
   "cell_type": "code",
   "execution_count": 59,
   "metadata": {
    "collapsed": true
   },
   "outputs": [],
   "source": [
    "testset = pd.read_csv('orig_test.csv')\n",
    "smiles_test = testset['smiles']\n",
    "testID = testset['Id']"
   ]
  },
  {
   "cell_type": "code",
   "execution_count": 50,
   "metadata": {
    "collapsed": false
   },
   "outputs": [],
   "source": [
    "data = pd.read_csv('orig_train.csv',nrows=100000)\n",
    "nfeats = 400\n",
    "feat_comp = data[:nfeats]\n",
    "comps = feat_comp['smiles']\n",
    "mid = (data.shape[0]-nfeats)/2\n",
    "train = data[nfeats+mid:]\n",
    "smiles_t = train['smiles']\n",
    "valid = data[:nfeats+mid]\n",
    "smiles_v = valid['smiles']\n",
    "ytrain = train['gap']\n",
    "yvalid = valid['gap']\n",
    "train = train.drop(['smiles','gap'],1)\n",
    "valid = valid.drop(['smiles','gap'],1)"
   ]
  },
  {
   "cell_type": "code",
   "execution_count": 51,
   "metadata": {
    "collapsed": true
   },
   "outputs": [],
   "source": [
    "from rdkit.Chem import MACCSkeys, DataStructs\n",
    "from rdkit.Chem.Fingerprints import FingerprintMols"
   ]
  },
  {
   "cell_type": "code",
   "execution_count": 52,
   "metadata": {
    "collapsed": false
   },
   "outputs": [
    {
     "name": "stdout",
     "output_type": "stream",
     "text": [
      "Done.\n"
     ]
    }
   ],
   "source": [
    "comps_vec = []\n",
    "count = 0\n",
    "for smiles in comps:\n",
    "    m = Chem.MolFromSmiles(smiles)\n",
    "    keys = MACCSkeys.GenMACCSKeys(m)\n",
    "    comps_vec.append(keys)\n",
    "print \"Done.\""
   ]
  },
  {
   "cell_type": "code",
   "execution_count": 53,
   "metadata": {
    "collapsed": false
   },
   "outputs": [
    {
     "name": "stdout",
     "output_type": "stream",
     "text": [
      "Done.\n"
     ]
    }
   ],
   "source": [
    "train_keys = []\n",
    "for smiles in smiles_t:\n",
    "    m = Chem.MolFromSmiles(smiles)\n",
    "    keys = MACCSkeys.GenMACCSKeys(m)\n",
    "    train_keys.append(keys)\n",
    "print \"Done.\""
   ]
  },
  {
   "cell_type": "code",
   "execution_count": 54,
   "metadata": {
    "collapsed": false,
    "scrolled": true
   },
   "outputs": [],
   "source": [
    "xtrain = pd.DataFrame(np.ones(len(train_keys)))\n",
    "i = 0\n",
    "for comp in comps_vec:\n",
    "    sims = []\n",
    "    for key in train_keys:\n",
    "        sim = DataStructs.FingerprintSimilarity(comp,key)\n",
    "        sims.append(sim)\n",
    "    xtrain[comp] = sims"
   ]
  },
  {
   "cell_type": "code",
   "execution_count": 55,
   "metadata": {
    "collapsed": false,
    "scrolled": true
   },
   "outputs": [
    {
     "name": "stdout",
     "output_type": "stream",
     "text": [
      "Done.\n"
     ]
    }
   ],
   "source": [
    "# valid_keys = []\n",
    "# for smiles in smiles_v:\n",
    "#     m = Chem.MolFromSmiles(smiles)\n",
    "#     keys = MACCSkeys.GenMACCSKeys(m)\n",
    "#     valid_keys.append(keys)\n",
    "# print \"Done.\""
   ]
  },
  {
   "cell_type": "code",
   "execution_count": 60,
   "metadata": {
    "collapsed": false
   },
   "outputs": [
    {
     "name": "stdout",
     "output_type": "stream",
     "text": [
      "Done.\n"
     ]
    }
   ],
   "source": [
    "test_keys = []\n",
    "for smiles in smiles_test:\n",
    "    m = Chem.MolFromSmiles(smiles)\n",
    "    keys = MACCSkeys.GenMACCSKeys(m)\n",
    "    test_keys.append(keys)\n",
    "print \"Done.\""
   ]
  },
  {
   "cell_type": "code",
   "execution_count": 56,
   "metadata": {
    "collapsed": true
   },
   "outputs": [],
   "source": [
    "# xvalid = pd.DataFrame(np.ones(len(valid_keys)))\n",
    "# for comp in comps_vec:\n",
    "#     sims = []\n",
    "#     for key in valid_keys:\n",
    "#         sim = DataStructs.FingerprintSimilarity(comp,key)\n",
    "#         sims.append(sim)\n",
    "#     xvalid[comp] = sims"
   ]
  },
  {
   "cell_type": "code",
   "execution_count": 61,
   "metadata": {
    "collapsed": true
   },
   "outputs": [],
   "source": [
    "xtest = pd.DataFrame(np.ones(len(test_keys)))\n",
    "for comp in comps_vec:\n",
    "    sims = []\n",
    "    for key in test_keys:\n",
    "        sim = DataStructs.FingerprintSimilarity(comp,key)\n",
    "        sims.append(sim)\n",
    "    xtest[comp] = sims"
   ]
  },
  {
   "cell_type": "code",
   "execution_count": 62,
   "metadata": {
    "collapsed": true
   },
   "outputs": [],
   "source": [
    "rf = sklearn.ensemble.RandomForestRegressor()\n",
    "rf.fit(xtrain,ytrain)\n",
    "pred = rf.predict(xtest) \n"
   ]
  },
  {
   "cell_type": "code",
   "execution_count": 65,
   "metadata": {
    "collapsed": false
   },
   "outputs": [],
   "source": [
    "preds =pd.DataFrame(pred)\n",
    "preds.to_csv(\"preds_MACCS.csv\",index=None)"
   ]
  },
  {
   "cell_type": "code",
   "execution_count": 58,
   "metadata": {
    "collapsed": false
   },
   "outputs": [
    {
     "data": {
      "text/plain": [
       "0.065621754243096603"
      ]
     },
     "execution_count": 58,
     "metadata": {},
     "output_type": "execute_result"
    }
   ],
   "source": [
    "error = mean_squared_error(yvalid,pred)\n",
    "error"
   ]
  },
  {
   "cell_type": "code",
   "execution_count": 66,
   "metadata": {
    "collapsed": true
   },
   "outputs": [],
   "source": [
    "predictions = pd.read_csv(\"preds_MACCS.csv\")"
   ]
  },
  {
   "cell_type": "code",
   "execution_count": 67,
   "metadata": {
    "collapsed": false
   },
   "outputs": [
    {
     "data": {
      "text/html": [
       "<div>\n",
       "<table border=\"1\" class=\"dataframe\">\n",
       "  <thead>\n",
       "    <tr style=\"text-align: right;\">\n",
       "      <th></th>\n",
       "      <th>0</th>\n",
       "    </tr>\n",
       "  </thead>\n",
       "  <tbody>\n",
       "    <tr>\n",
       "      <th>0</th>\n",
       "      <td>1.611704</td>\n",
       "    </tr>\n",
       "    <tr>\n",
       "      <th>1</th>\n",
       "      <td>2.071500</td>\n",
       "    </tr>\n",
       "    <tr>\n",
       "      <th>2</th>\n",
       "      <td>1.385243</td>\n",
       "    </tr>\n",
       "    <tr>\n",
       "      <th>3</th>\n",
       "      <td>1.740758</td>\n",
       "    </tr>\n",
       "    <tr>\n",
       "      <th>4</th>\n",
       "      <td>1.798371</td>\n",
       "    </tr>\n",
       "    <tr>\n",
       "      <th>5</th>\n",
       "      <td>2.210083</td>\n",
       "    </tr>\n",
       "    <tr>\n",
       "      <th>6</th>\n",
       "      <td>2.092333</td>\n",
       "    </tr>\n",
       "    <tr>\n",
       "      <th>7</th>\n",
       "      <td>1.918908</td>\n",
       "    </tr>\n",
       "    <tr>\n",
       "      <th>8</th>\n",
       "      <td>1.791582</td>\n",
       "    </tr>\n",
       "    <tr>\n",
       "      <th>9</th>\n",
       "      <td>2.263633</td>\n",
       "    </tr>\n",
       "    <tr>\n",
       "      <th>10</th>\n",
       "      <td>2.078417</td>\n",
       "    </tr>\n",
       "    <tr>\n",
       "      <th>11</th>\n",
       "      <td>1.797412</td>\n",
       "    </tr>\n",
       "    <tr>\n",
       "      <th>12</th>\n",
       "      <td>2.251567</td>\n",
       "    </tr>\n",
       "    <tr>\n",
       "      <th>13</th>\n",
       "      <td>1.611000</td>\n",
       "    </tr>\n",
       "    <tr>\n",
       "      <th>14</th>\n",
       "      <td>2.370301</td>\n",
       "    </tr>\n",
       "    <tr>\n",
       "      <th>15</th>\n",
       "      <td>2.219000</td>\n",
       "    </tr>\n",
       "    <tr>\n",
       "      <th>16</th>\n",
       "      <td>2.147500</td>\n",
       "    </tr>\n",
       "    <tr>\n",
       "      <th>17</th>\n",
       "      <td>2.138585</td>\n",
       "    </tr>\n",
       "    <tr>\n",
       "      <th>18</th>\n",
       "      <td>1.725968</td>\n",
       "    </tr>\n",
       "    <tr>\n",
       "      <th>19</th>\n",
       "      <td>1.991848</td>\n",
       "    </tr>\n",
       "    <tr>\n",
       "      <th>20</th>\n",
       "      <td>2.155250</td>\n",
       "    </tr>\n",
       "    <tr>\n",
       "      <th>21</th>\n",
       "      <td>1.985821</td>\n",
       "    </tr>\n",
       "    <tr>\n",
       "      <th>22</th>\n",
       "      <td>1.813533</td>\n",
       "    </tr>\n",
       "    <tr>\n",
       "      <th>23</th>\n",
       "      <td>1.604581</td>\n",
       "    </tr>\n",
       "    <tr>\n",
       "      <th>24</th>\n",
       "      <td>1.994733</td>\n",
       "    </tr>\n",
       "    <tr>\n",
       "      <th>25</th>\n",
       "      <td>1.899208</td>\n",
       "    </tr>\n",
       "    <tr>\n",
       "      <th>26</th>\n",
       "      <td>1.504133</td>\n",
       "    </tr>\n",
       "    <tr>\n",
       "      <th>27</th>\n",
       "      <td>1.934659</td>\n",
       "    </tr>\n",
       "    <tr>\n",
       "      <th>28</th>\n",
       "      <td>2.448504</td>\n",
       "    </tr>\n",
       "    <tr>\n",
       "      <th>29</th>\n",
       "      <td>2.323971</td>\n",
       "    </tr>\n",
       "    <tr>\n",
       "      <th>...</th>\n",
       "      <td>...</td>\n",
       "    </tr>\n",
       "    <tr>\n",
       "      <th>824200</th>\n",
       "      <td>1.525494</td>\n",
       "    </tr>\n",
       "    <tr>\n",
       "      <th>824201</th>\n",
       "      <td>1.457000</td>\n",
       "    </tr>\n",
       "    <tr>\n",
       "      <th>824202</th>\n",
       "      <td>1.641409</td>\n",
       "    </tr>\n",
       "    <tr>\n",
       "      <th>824203</th>\n",
       "      <td>1.476104</td>\n",
       "    </tr>\n",
       "    <tr>\n",
       "      <th>824204</th>\n",
       "      <td>2.380786</td>\n",
       "    </tr>\n",
       "    <tr>\n",
       "      <th>824205</th>\n",
       "      <td>1.768066</td>\n",
       "    </tr>\n",
       "    <tr>\n",
       "      <th>824206</th>\n",
       "      <td>2.420200</td>\n",
       "    </tr>\n",
       "    <tr>\n",
       "      <th>824207</th>\n",
       "      <td>1.605000</td>\n",
       "    </tr>\n",
       "    <tr>\n",
       "      <th>824208</th>\n",
       "      <td>1.665083</td>\n",
       "    </tr>\n",
       "    <tr>\n",
       "      <th>824209</th>\n",
       "      <td>2.175667</td>\n",
       "    </tr>\n",
       "    <tr>\n",
       "      <th>824210</th>\n",
       "      <td>2.333650</td>\n",
       "    </tr>\n",
       "    <tr>\n",
       "      <th>824211</th>\n",
       "      <td>1.963618</td>\n",
       "    </tr>\n",
       "    <tr>\n",
       "      <th>824212</th>\n",
       "      <td>2.012966</td>\n",
       "    </tr>\n",
       "    <tr>\n",
       "      <th>824213</th>\n",
       "      <td>2.096000</td>\n",
       "    </tr>\n",
       "    <tr>\n",
       "      <th>824214</th>\n",
       "      <td>1.169654</td>\n",
       "    </tr>\n",
       "    <tr>\n",
       "      <th>824215</th>\n",
       "      <td>2.204041</td>\n",
       "    </tr>\n",
       "    <tr>\n",
       "      <th>824216</th>\n",
       "      <td>1.329583</td>\n",
       "    </tr>\n",
       "    <tr>\n",
       "      <th>824217</th>\n",
       "      <td>2.286333</td>\n",
       "    </tr>\n",
       "    <tr>\n",
       "      <th>824218</th>\n",
       "      <td>1.725229</td>\n",
       "    </tr>\n",
       "    <tr>\n",
       "      <th>824219</th>\n",
       "      <td>2.272682</td>\n",
       "    </tr>\n",
       "    <tr>\n",
       "      <th>824220</th>\n",
       "      <td>2.270186</td>\n",
       "    </tr>\n",
       "    <tr>\n",
       "      <th>824221</th>\n",
       "      <td>1.881121</td>\n",
       "    </tr>\n",
       "    <tr>\n",
       "      <th>824222</th>\n",
       "      <td>1.607700</td>\n",
       "    </tr>\n",
       "    <tr>\n",
       "      <th>824223</th>\n",
       "      <td>2.492351</td>\n",
       "    </tr>\n",
       "    <tr>\n",
       "      <th>824224</th>\n",
       "      <td>2.735233</td>\n",
       "    </tr>\n",
       "    <tr>\n",
       "      <th>824225</th>\n",
       "      <td>1.594733</td>\n",
       "    </tr>\n",
       "    <tr>\n",
       "      <th>824226</th>\n",
       "      <td>1.614530</td>\n",
       "    </tr>\n",
       "    <tr>\n",
       "      <th>824227</th>\n",
       "      <td>1.613664</td>\n",
       "    </tr>\n",
       "    <tr>\n",
       "      <th>824228</th>\n",
       "      <td>1.930000</td>\n",
       "    </tr>\n",
       "    <tr>\n",
       "      <th>824229</th>\n",
       "      <td>1.705449</td>\n",
       "    </tr>\n",
       "  </tbody>\n",
       "</table>\n",
       "<p>824230 rows × 1 columns</p>\n",
       "</div>"
      ],
      "text/plain": [
       "               0\n",
       "0       1.611704\n",
       "1       2.071500\n",
       "2       1.385243\n",
       "3       1.740758\n",
       "4       1.798371\n",
       "5       2.210083\n",
       "6       2.092333\n",
       "7       1.918908\n",
       "8       1.791582\n",
       "9       2.263633\n",
       "10      2.078417\n",
       "11      1.797412\n",
       "12      2.251567\n",
       "13      1.611000\n",
       "14      2.370301\n",
       "15      2.219000\n",
       "16      2.147500\n",
       "17      2.138585\n",
       "18      1.725968\n",
       "19      1.991848\n",
       "20      2.155250\n",
       "21      1.985821\n",
       "22      1.813533\n",
       "23      1.604581\n",
       "24      1.994733\n",
       "25      1.899208\n",
       "26      1.504133\n",
       "27      1.934659\n",
       "28      2.448504\n",
       "29      2.323971\n",
       "...          ...\n",
       "824200  1.525494\n",
       "824201  1.457000\n",
       "824202  1.641409\n",
       "824203  1.476104\n",
       "824204  2.380786\n",
       "824205  1.768066\n",
       "824206  2.420200\n",
       "824207  1.605000\n",
       "824208  1.665083\n",
       "824209  2.175667\n",
       "824210  2.333650\n",
       "824211  1.963618\n",
       "824212  2.012966\n",
       "824213  2.096000\n",
       "824214  1.169654\n",
       "824215  2.204041\n",
       "824216  1.329583\n",
       "824217  2.286333\n",
       "824218  1.725229\n",
       "824219  2.272682\n",
       "824220  2.270186\n",
       "824221  1.881121\n",
       "824222  1.607700\n",
       "824223  2.492351\n",
       "824224  2.735233\n",
       "824225  1.594733\n",
       "824226  1.614530\n",
       "824227  1.613664\n",
       "824228  1.930000\n",
       "824229  1.705449\n",
       "\n",
       "[824230 rows x 1 columns]"
      ]
     },
     "execution_count": 67,
     "metadata": {},
     "output_type": "execute_result"
    }
   ],
   "source": [
    "predictions."
   ]
  },
  {
   "cell_type": "code",
   "execution_count": null,
   "metadata": {
    "collapsed": true
   },
   "outputs": [],
   "source": []
  }
 ],
 "metadata": {
  "kernelspec": {
   "display_name": "Python 2",
   "language": "python",
   "name": "python2"
  },
  "language_info": {
   "codemirror_mode": {
    "name": "ipython",
    "version": 2
   },
   "file_extension": ".py",
   "mimetype": "text/x-python",
   "name": "python",
   "nbconvert_exporter": "python",
   "pygments_lexer": "ipython2",
   "version": "2.7.12"
  }
 },
 "nbformat": 4,
 "nbformat_minor": 0
}
