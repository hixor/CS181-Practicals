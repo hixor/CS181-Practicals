{
 "cells": [
  {
   "cell_type": "code",
   "execution_count": 4,
   "metadata": {
    "collapsed": true
   },
   "outputs": [],
   "source": [
    "from sklearn import linear_model\n",
    "from sklearn.metrics import mean_squared_error\n",
    "from sklearn.ensemble import GradientBoostingRegressor\n",
    "import sklearn.ensemble\n",
    "import xgboost as xgb\n",
    "from xgboost.sklearn import XGBClassifier\n",
    "import matplotlib.pyplot as plt\n",
    "import numpy as np\n",
    "import pandas as pd\n",
    "%matplotlib inline\n",
    "from rdkit import Chem, DataStructs\n",
    "from rdkit.Chem import AllChem\n",
    "from rdkit.Chem import rdMolDescriptors as desc\n",
    "from rdkit.DataStructs import cDataStructs as ds\n",
    "from rdkit.DataStructs import UIntSparseIntVect as usv\n",
    "from rdkit.Chem import MACCSkeys, DataStructs\n",
    "from rdkit.Chem.Fingerprints import FingerprintMols\n",
    "from rdkit.Chem.AtomPairs import Pairs"
   ]
  },
  {
   "cell_type": "code",
   "execution_count": 2,
   "metadata": {
    "collapsed": true
   },
   "outputs": [],
   "source": [
    "trainfile = \"orig_train.csv\""
   ]
  },
  {
   "cell_type": "code",
   "execution_count": 38,
   "metadata": {
    "collapsed": false
   },
   "outputs": [],
   "source": [
    "fulltrain = pd.read_csv(\"orig_train.csv\")\n",
    "fulltest = pd.read_csv(\"orig_test.csv\")"
   ]
  },
  {
   "cell_type": "code",
   "execution_count": 39,
   "metadata": {
    "collapsed": false
   },
   "outputs": [],
   "source": [
    "train_smiles = fulltrain['smiles']\n",
    "test_smiles = fulltest['smiles']"
   ]
  },
  {
   "cell_type": "code",
   "execution_count": null,
   "metadata": {
    "collapsed": true
   },
   "outputs": [],
   "source": [
    "train1 = fulltrain[:10000]\n",
    "train2 = fulltrain[10000:20000]\n",
    "train3 = fulltrain()"
   ]
  },
  {
   "cell_type": "code",
   "execution_count": 40,
   "metadata": {
    "collapsed": true
   },
   "outputs": [],
   "source": [
    "cols = ['smile','m','key','pairFps','morgan']\n",
    "train_profile = pd.DataFrame(columns=cols)"
   ]
  },
  {
   "cell_type": "code",
   "execution_count": null,
   "metadata": {
    "collapsed": true
   },
   "outputs": [],
   "source": [
    "transform_filename = \"RDKitFingerprints_train.csv\""
   ]
  },
  {
   "cell_type": "code",
   "execution_count": null,
   "metadata": {
    "collapsed": true
   },
   "outputs": [],
   "source": [
    "def getRDKFingerprints(smile):\n",
    "    m = Chem.MolFromSmiles(smile)\n",
    "    return RDKFingerprint(m,fpSize=512)\n",
    "\n",
    "def getMACCS(smile):\n",
    "    m = Chem.MolFromSmiles(smile)\n",
    "    return MACCSkeys.GenMACCSKeys(m)\n",
    "\n",
    "def getMorgan(smile):\n",
    "    m = Chem.MolFromSmiles(smile)\n",
    "    return AllChem.GetMorganFingerprint(m,2,invariants=[1]*m.GetNumAtoms())\n",
    "\n",
    "\n",
    "def getPairs(smile):\n",
    "    m = Chem.MolFromSmiles(smile)\n",
    "    return Pairs.GetAtomPairFingerprint(m)\n",
    "\n",
    "key = MACCSkeys.GenMACCSKeys(m)\n",
    "    pairFps = Pairs.GetAtomPairFingerprint(m)\n",
    "    morgan = AllChem.GetMorganFingerprint(m,2,invariants=[1]*m.GetNumAtoms())\n",
    "    new = pd.DataFrame([[smile,m,key,pairFps,morgan]],columns=cols)"
   ]
  },
  {
   "cell_type": "code",
   "execution_count": null,
   "metadata": {
    "collapsed": true,
    "hide_input": true
   },
   "outputs": [],
   "source": [
    "def feature_transformed_file(transform_filename, data):\n",
    "    with open(transform_filename, 'wb') as tf:\n",
    "        \n",
    "        # Produce a CSV File:\n",
    "        transform_csv = csv.writer(tf, delimiter=',', quotechar='\"')\n",
    "        \n",
    "        prog = 0\n",
    "        for index, datum in enumerate(data):\n",
    "            prog += 1\n",
    "            if prog % 5 == 0:\n",
    "                print prog\n",
    "            transform_csv.writerow(np.hstack((\n",
    "                                    datum,\n",
    "                                    feature_transforming_function(datum, 2),\n",
    "                                    feature_transforming_function(datum, 3)))\n",
    "                                   )\n",
    "        print \"done\""
   ]
  },
  {
   "cell_type": "code",
   "execution_count": null,
   "metadata": {
    "collapsed": false,
    "scrolled": true
   },
   "outputs": [],
   "source": [
    "for smile in train_smiles:\n",
    "    m = Chem.MolFromSmiles(smile)\n",
    "    key = MACCSkeys.GenMACCSKeys(m)\n",
    "    pairFps = Pairs.GetAtomPairFingerprint(m)\n",
    "    morgan = AllChem.GetMorganFingerprint(m,2,invariants=[1]*m.GetNumAtoms())\n",
    "    new = pd.DataFrame([[smile,m,key,pairFps,morgan]],columns=cols)\n",
    "    train_profile.append(new)"
   ]
  },
  {
   "cell_type": "code",
   "execution_count": null,
   "metadata": {
    "collapsed": true
   },
   "outputs": [],
   "source": [
    "test_profile = pd.DataFrame(columns=cols)"
   ]
  },
  {
   "cell_type": "code",
   "execution_count": 3,
   "metadata": {
    "collapsed": false,
    "scrolled": true
   },
   "outputs": [
    {
     "data": {
      "text/html": [
       "<div>\n",
       "<table border=\"1\" class=\"dataframe\">\n",
       "  <thead>\n",
       "    <tr style=\"text-align: right;\">\n",
       "      <th></th>\n",
       "      <th>smiles</th>\n",
       "      <th>feat_001</th>\n",
       "      <th>feat_002</th>\n",
       "      <th>feat_003</th>\n",
       "      <th>feat_004</th>\n",
       "      <th>feat_005</th>\n",
       "      <th>feat_006</th>\n",
       "      <th>feat_007</th>\n",
       "      <th>feat_008</th>\n",
       "      <th>feat_009</th>\n",
       "      <th>...</th>\n",
       "      <th>feat_248</th>\n",
       "      <th>feat_249</th>\n",
       "      <th>feat_250</th>\n",
       "      <th>feat_251</th>\n",
       "      <th>feat_252</th>\n",
       "      <th>feat_253</th>\n",
       "      <th>feat_254</th>\n",
       "      <th>feat_255</th>\n",
       "      <th>feat_256</th>\n",
       "      <th>gap</th>\n",
       "    </tr>\n",
       "  </thead>\n",
       "  <tbody>\n",
       "    <tr>\n",
       "      <th>0</th>\n",
       "      <td>c1ccc(o1)-c1ccc(s1)-c1cnc(-c2scc3[se]ccc23)c2n...</td>\n",
       "      <td>0</td>\n",
       "      <td>0</td>\n",
       "      <td>0</td>\n",
       "      <td>0</td>\n",
       "      <td>1</td>\n",
       "      <td>0</td>\n",
       "      <td>1</td>\n",
       "      <td>0</td>\n",
       "      <td>0</td>\n",
       "      <td>...</td>\n",
       "      <td>1</td>\n",
       "      <td>0</td>\n",
       "      <td>0</td>\n",
       "      <td>0</td>\n",
       "      <td>0</td>\n",
       "      <td>0</td>\n",
       "      <td>0</td>\n",
       "      <td>0</td>\n",
       "      <td>0</td>\n",
       "      <td>1.19</td>\n",
       "    </tr>\n",
       "  </tbody>\n",
       "</table>\n",
       "<p>1 rows × 258 columns</p>\n",
       "</div>"
      ],
      "text/plain": [
       "                                              smiles  feat_001  feat_002  \\\n",
       "0  c1ccc(o1)-c1ccc(s1)-c1cnc(-c2scc3[se]ccc23)c2n...         0         0   \n",
       "\n",
       "   feat_003  feat_004  feat_005  feat_006  feat_007  feat_008  feat_009  ...   \\\n",
       "0         0         0         1         0         1         0         0  ...    \n",
       "\n",
       "   feat_248  feat_249  feat_250  feat_251  feat_252  feat_253  feat_254  \\\n",
       "0         1         0         0         0         0         0         0   \n",
       "\n",
       "   feat_255  feat_256   gap  \n",
       "0         0         0  1.19  \n",
       "\n",
       "[1 rows x 258 columns]"
      ]
     },
     "execution_count": 3,
     "metadata": {},
     "output_type": "execute_result"
    }
   ],
   "source": [
    "for smile in test_smiles:\n",
    "    m = Chem.MolFromSmiles(smile)\n",
    "    key = MACCSkeys.GenMACCSKeys(m)\n",
    "    pairFps = Pairs.GetAtomPairFingerprint(m)\n",
    "    morgan = AllChem.GetMorganFingerprint(m,2,invariants=[1]*m.GetNumAtoms())\n",
    "    new = pd.DataFrame([[smile,m,key,pairFps,morgan]],columns=cols)\n",
    "    test_profile.append(new)"
   ]
  },
  {
   "cell_type": "code",
   "execution_count": null,
   "metadata": {
    "collapsed": true
   },
   "outputs": [],
   "source": [
    "# Write a prediction file.\n",
    "def write_prediction_file(pred_filename, data, clf):\n",
    "    with open(pred_filename, 'wb') as pred_fh:\n",
    "    \n",
    "        # Produce a CSV file.\n",
    "        pred_csv = csv.writer(pred_fh, delimiter=',', quotechar='\"')\n",
    "    \n",
    "        # Write the header row.\n",
    "        pred_csv.writerow(['Id', 'Prediction'])\n",
    "    \n",
    "        prog = 0\n",
    "        for index, datum in enumerate(data):\n",
    "            prog += 1\n",
    "            if prog % 5 == 0:\n",
    "                print prog\n",
    "            pred_csv.writerow([index, clf.predict(datum)[0]])\n",
    "        print \"done\""
   ]
  }
 ],
 "metadata": {
  "hide_input": false,
  "kernelspec": {
   "display_name": "Python 2",
   "language": "python",
   "name": "python2"
  },
  "language_info": {
   "codemirror_mode": {
    "name": "ipython",
    "version": 2
   },
   "file_extension": ".py",
   "mimetype": "text/x-python",
   "name": "python",
   "nbconvert_exporter": "python",
   "pygments_lexer": "ipython2",
   "version": "2.7.13"
  },
  "latex_envs": {
   "bibliofile": "biblio.bib",
   "cite_by": "apalike",
   "current_citInitial": 1,
   "eqLabelWithNumbers": true,
   "eqNumInitial": 0
  },
  "toc": {
   "toc_cell": false,
   "toc_number_sections": true,
   "toc_threshold": 6,
   "toc_window_display": false
  }
 },
 "nbformat": 4,
 "nbformat_minor": 0
}
