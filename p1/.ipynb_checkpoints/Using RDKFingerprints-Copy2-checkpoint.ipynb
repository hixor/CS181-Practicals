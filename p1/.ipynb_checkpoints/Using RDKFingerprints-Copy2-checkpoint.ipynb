{
 "cells": [
  {
   "cell_type": "code",
   "execution_count": 1,
   "metadata": {
    "collapsed": true
   },
   "outputs": [],
   "source": [
    "from sklearn import linear_model\n",
    "from sklearn.metrics import mean_squared_error\n",
    "from sklearn.ensemble import GradientBoostingRegressor\n",
    "import sklearn.ensemble\n",
    "import xgboost as xgb\n",
    "from xgboost.sklearn import XGBClassifier\n",
    "import matplotlib.pyplot as plt\n",
    "import numpy as np\n",
    "import pandas as pd\n",
    "%matplotlib inline\n",
    "from rdkit import Chem, DataStructs\n",
    "from rdkit.Chem import AllChem\n",
    "from rdkit.Chem import rdMolDescriptors as desc\n",
    "from rdkit.DataStructs import cDataStructs as ds\n",
    "from rdkit.DataStructs import UIntSparseIntVect as usv\n"
   ]
  },
  {
   "cell_type": "code",
   "execution_count": 4,
   "metadata": {
    "collapsed": false
   },
   "outputs": [],
   "source": [
    "trainset = pd.read_csv('orig_train.csv',nrows=50000)\n",
    "#testset = pd.read_csv('orig_test.csv')\n",
    "\n",
    "#smiles_test = testset['smiles']\n",
    "#testID = testset['Id']\n",
    "train = trainset.drop('smiles',1)\n",
    "#test = testset.drop(['smiles','Id'],1)\n",
    "mid = trainset.shape[0]/2\n",
    "train_0 = trainset[mid:]\n",
    "valid_0 = trainset[:mid]\n",
    "smiles_train = train_0['smiles']\n",
    "smiles_valid = valid_0['smiles']"
   ]
  },
  {
   "cell_type": "code",
   "execution_count": 5,
   "metadata": {
    "collapsed": false
   },
   "outputs": [],
   "source": [
    "ytrain_0 = train_0['gap']\n",
    "yvalid_0 = valid_0['gap']"
   ]
  },
  {
   "cell_type": "code",
   "execution_count": 7,
   "metadata": {
    "collapsed": true
   },
   "outputs": [],
   "source": [
    "fp_Size = 200"
   ]
  },
  {
   "cell_type": "code",
   "execution_count": 8,
   "metadata": {
    "collapsed": false
   },
   "outputs": [
    {
     "name": "stdout",
     "output_type": "stream",
     "text": [
      "Done.\n"
     ]
    }
   ],
   "source": [
    "mat = np.matrix([0]*fp_Size)\n",
    "count = 0\n",
    "for smiles in smiles_train:\n",
    "    m = Chem.MolFromSmiles(smiles)\n",
    "    fp = AllChem.RDKFingerprint(m,fpSize=fp_Size)\n",
    "    arr = np.zeros((1,))\n",
    "    DataStructs.ConvertToNumpyArray(fp, arr)\n",
    "    mat = np.vstack((mat,arr))\n",
    "print \"Done.\""
   ]
  },
  {
   "cell_type": "code",
   "execution_count": 9,
   "metadata": {
    "collapsed": false
   },
   "outputs": [
    {
     "name": "stdout",
     "output_type": "stream",
     "text": [
      "Done.\n"
     ]
    }
   ],
   "source": [
    "mat1 = np.matrix([0]*fp_Size)\n",
    "count = 0\n",
    "for smiles in smiles_valid:\n",
    "    m = Chem.MolFromSmiles(smiles)\n",
    "    fp = AllChem.RDKFingerprint(m,fpSize=fp_Size)\n",
    "    arr = np.zeros((1,))\n",
    "    DataStructs.ConvertToNumpyArray(fp, arr)\n",
    "    mat1 = np.vstack((mat1,arr))\n",
    "print \"Done.\""
   ]
  },
  {
   "cell_type": "code",
   "execution_count": 16,
   "metadata": {
    "collapsed": false
   },
   "outputs": [],
   "source": [
    "mat1 = np.delete(mat1,0,0)"
   ]
  },
  {
   "cell_type": "code",
   "execution_count": null,
   "metadata": {
    "collapsed": false
   },
   "outputs": [],
   "source": [
    "\n",
    "rand_for_0 = sklearn.ensemble.RandomForestRegressor()\n",
    "rand_for_0.fit(mat1,ytrain_0)\n",
    "#valid_0.drop(valid_0.tail(1).index, inplace=True)\n",
    "preds_rf_0 = rand_for_0.predict(valid_0) \n",
    "error = mean_squared_error(yvalid_0,preds_rf_0)\n",
    "error"
   ]
  },
  {
   "cell_type": "code",
   "execution_count": 8,
   "metadata": {
    "collapsed": true
   },
   "outputs": [
    {
     "name": "stdout",
     "output_type": "stream",
     "text": [
      "Written train 1000\n",
      "Written train 2000\n",
      "Written train 3000\n",
      "Written train 4000\n",
      "Written train 5000\n",
      "Written train 6000\n",
      "Written train 7000\n",
      "Written train 8000\n",
      "Written train 9000\n",
      "Written train 10000\n",
      "Written train 11000\n",
      "Written train 12000\n",
      "Written train 13000\n",
      "Written train 14000\n",
      "Written train 15000\n",
      "Written train 16000\n",
      "Written train 17000\n",
      "Written train 18000\n",
      "Written train 19000\n",
      "Written train 20000\n"
     ]
    }
   ],
   "source": [
    "f = open(\"RDFtrain1.csv\", \"a\")\n",
    "\n",
    "mat = np.matrix([0]*fp_Size)\n",
    "count = 0\n",
    "for i in range(1,2):\n",
    "    for smiles in smiles_train[i*10000:(i+2)*10000]:\n",
    "        m = Chem.MolFromSmiles(smiles)\n",
    "        fp = AllChem.RDKFingerprint(m,fpSize=fp_Size)\n",
    "        arr = np.zeros((1,))\n",
    "        DataStructs.ConvertToNumpyArray(fp, arr)\n",
    "        mat = np.vstack((mat,arr))\n",
    "        count = count+1\n",
    "        if count%1000 == 0:\n",
    "            print \"Written train\", count\n",
    "    np.savetxt(f, mat,delimiter=\",\")"
   ]
  },
  {
   "cell_type": "code",
   "execution_count": null,
   "metadata": {
    "collapsed": true
   },
   "outputs": [],
   "source": [
    "df.drop(df.index[[1,3]], inplace=True)"
   ]
  },
  {
   "cell_type": "code",
   "execution_count": 41,
   "metadata": {
    "collapsed": false,
    "scrolled": true
   },
   "outputs": [
    {
     "name": "stderr",
     "output_type": "stream",
     "text": [
      "/Users/jnoxon/anaconda/lib/python2.7/site-packages/ipykernel/__main__.py:8: SettingWithCopyWarning: \n",
      "A value is trying to be set on a copy of a slice from a DataFrame\n",
      "\n",
      "See the caveats in the documentation: http://pandas.pydata.org/pandas-docs/stable/indexing.html#indexing-view-versus-copy\n"
     ]
    },
    {
     "data": {
      "text/plain": [
       "0.19879652078190355"
      ]
     },
     "execution_count": 41,
     "metadata": {},
     "output_type": "execute_result"
    }
   ],
   "source": [
    "train_csv_0 = pd.read_csv(\"RDFtrain1.csv\",header=0)\n",
    "\n",
    "mid = train_csv_0.shape[0]/2\n",
    "train_0 = train_csv_0[:mid]\n",
    "valid_0 = train_csv_0[mid:]\n",
    "rand_for_0 = sklearn.ensemble.RandomForestRegressor()\n",
    "rand_for_0.fit(train_0,ytrain[:mid])\n",
    "valid_0.drop(valid_0.tail(1).index, inplace=True)\n",
    "preds_rf_0 = rand_for_0.predict(valid_0) \n",
    "error = mean_squared_error(ytrain[mid:mid+15000],preds_rf_0)\n",
    "error"
   ]
  },
  {
   "cell_type": "code",
   "execution_count": 40,
   "metadata": {
    "collapsed": false
   },
   "outputs": [
    {
     "data": {
      "text/plain": [
       "(15000,)"
      ]
     },
     "execution_count": 40,
     "metadata": {},
     "output_type": "execute_result"
    }
   ],
   "source": [
    "ytrain[mid:mid+15000].shape"
   ]
  },
  {
   "cell_type": "code",
   "execution_count": null,
   "metadata": {
    "collapsed": false
   },
   "outputs": [
    {
     "name": "stdout",
     "output_type": "stream",
     "text": [
      "Written test 10000\n",
      "Written test 20000\n",
      "Written test 30000\n",
      "Written test 40000\n",
      "Written test 50000\n",
      "Written test 60000\n",
      "Written test 70000\n",
      "Written test"
     ]
    }
   ],
   "source": [
    "mat1 = np.matrix([0]*fp_Size)\n",
    "count = 0\n",
    "for smiles in smiles_test:\n",
    "    m = Chem.MolFromSmiles(smiles)\n",
    "    fp = AllChem.RDKFingerprint(m,fpSize=fp_Size)\n",
    "    arr = np.zeros((1,))\n",
    "    DataStructs.ConvertToNumpyArray(fp, arr)\n",
    "    mat1 = np.vstack((mat1,arr))\n",
    "    count = count+1\n",
    "    if count%10000 == 0:\n",
    "        print \"Written test\", count\n",
    "np.savetxt(\"RDFtest1.csv\",mat1,delimiter=\",\")"
   ]
  },
  {
   "cell_type": "code",
   "execution_count": null,
   "metadata": {
    "collapsed": true,
    "hide_input": true
   },
   "outputs": [],
   "source": [
    "f = open(\"RDFtest1.csv\", \"a\")\n",
    "\n",
    "mat1 = np.matrix([0]*fp_Size)\n",
    "count = 0\n",
    "i = 5\n",
    "for smiles in smiles_train[i*10000:(i+2)*10000]:\n",
    "    m = Chem.MolFromSmiles(smiles)\n",
    "    fp = AllChem.RDKFingerprint(m,fpSize=fp_Size)\n",
    "    arr = np.zeros((1,))\n",
    "    DataStructs.ConvertToNumpyArray(fp, arr)\n",
    "    mat1 = np.vstack((mat1,arr))\n",
    "    count = count+1\n",
    "    if count%1000 == 0:\n",
    "        print \"Written test\", count\n",
    "np.savetxt(f, mat1,delimiter=\",\")"
   ]
  },
  {
   "cell_type": "code",
   "execution_count": null,
   "metadata": {
    "collapsed": true
   },
   "outputs": [],
   "source": [
    "train0 = pd.read_csv(\"RDFtrain1.csv\")\n",
    "test0 = pd.read_csv(\"RDFtest1.csv\")"
   ]
  },
  {
   "cell_type": "code",
   "execution_count": null,
   "metadata": {
    "collapsed": true
   },
   "outputs": [],
   "source": [
    "rand_for = sklearn.ensemble.RandomForestRegressor()\n",
    "rand_for.fit(train0,ytrain)\n"
   ]
  },
  {
   "cell_type": "code",
   "execution_count": null,
   "metadata": {
    "collapsed": true
   },
   "outputs": [],
   "source": [
    "preds_rf = rand_for.predict(test0) "
   ]
  },
  {
   "cell_type": "code",
   "execution_count": null,
   "metadata": {
    "collapsed": true
   },
   "outputs": [],
   "source": [
    "np.savetxt(\"RDKpreds.csv\",preds_rf,delimiter=\",\")"
   ]
  },
  {
   "cell_type": "code",
   "execution_count": null,
   "metadata": {
    "collapsed": true
   },
   "outputs": [],
   "source": []
  }
 ],
 "metadata": {
  "hide_input": false,
  "kernelspec": {
   "display_name": "Python 2",
   "language": "python",
   "name": "python2"
  },
  "language_info": {
   "codemirror_mode": {
    "name": "ipython",
    "version": 2
   },
   "file_extension": ".py",
   "mimetype": "text/x-python",
   "name": "python",
   "nbconvert_exporter": "python",
   "pygments_lexer": "ipython2",
   "version": "2.7.12"
  },
  "latex_envs": {
   "bibliofile": "biblio.bib",
   "cite_by": "apalike",
   "current_citInitial": 1,
   "eqLabelWithNumbers": true,
   "eqNumInitial": 0
  },
  "toc": {
   "toc_cell": false,
   "toc_number_sections": true,
   "toc_threshold": 6,
   "toc_window_display": false
  }
 },
 "nbformat": 4,
 "nbformat_minor": 0
}
