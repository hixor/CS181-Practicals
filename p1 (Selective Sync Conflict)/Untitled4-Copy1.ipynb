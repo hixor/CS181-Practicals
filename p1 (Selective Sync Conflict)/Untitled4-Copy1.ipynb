{
 "cells": [
  {
   "cell_type": "code",
   "execution_count": 2,
   "metadata": {
    "collapsed": true
   },
   "outputs": [],
   "source": [
    "from sklearn import linear_model\n",
    "from sklearn.metrics import mean_squared_error\n",
    "from sklearn.ensemble import GradientBoostingRegressor\n",
    "import sklearn.ensemble\n",
    "import xgboost as xgb\n",
    "from xgboost.sklearn import XGBClassifier\n",
    "import matplotlib.pyplot as plt\n",
    "import numpy as np\n",
    "import pandas as pd\n",
    "%matplotlib inline\n",
    "from rdkit import Chem, DataStructs\n",
    "from rdkit.Chem import AllChem\n",
    "from rdkit.Chem import rdMolDescriptors as desc\n",
    "from rdkit.DataStructs import cDataStructs as ds\n",
    "from rdkit.DataStructs import UIntSparseIntVect as usv\n"
   ]
  },
  {
   "cell_type": "code",
   "execution_count": 59,
   "metadata": {
    "collapsed": true
   },
   "outputs": [],
   "source": [
    "testset = pd.read_csv('orig_test.csv')\n",
    "smiles_test = testset['smiles']\n",
    "testID = testset['Id']"
   ]
  },
  {
   "cell_type": "code",
   "execution_count": 50,
   "metadata": {
    "collapsed": false
   },
   "outputs": [],
   "source": [
    "data = pd.read_csv('orig_train.csv',nrows=100000)\n",
    "nfeats = 400\n",
    "feat_comp = data[:nfeats]\n",
    "comps = feat_comp['smiles']\n",
    "mid = (data.shape[0]-nfeats)/2\n",
    "train = data[nfeats+mid:]\n",
    "smiles_t = train['smiles']\n",
    "valid = data[:nfeats+mid]\n",
    "smiles_v = valid['smiles']\n",
    "ytrain = train['gap']\n",
    "yvalid = valid['gap']\n",
    "train = train.drop(['smiles','gap'],1)\n",
    "valid = valid.drop(['smiles','gap'],1)"
   ]
  },
  {
   "cell_type": "code",
   "execution_count": 51,
   "metadata": {
    "collapsed": true
   },
   "outputs": [],
   "source": [
    "from rdkit.Chem import MACCSkeys, DataStructs\n",
    "from rdkit.Chem.Fingerprints import FingerprintMols"
   ]
  },
  {
   "cell_type": "code",
   "execution_count": 52,
   "metadata": {
    "collapsed": false
   },
   "outputs": [
    {
     "name": "stdout",
     "output_type": "stream",
     "text": [
      "Done.\n"
     ]
    }
   ],
   "source": [
    "comps_vec = []\n",
    "count = 0\n",
    "for smiles in comps:\n",
    "    m = Chem.MolFromSmiles(smiles)\n",
    "    keys = MACCSkeys.GenMACCSKeys(m)\n",
    "    comps_vec.append(keys)\n",
    "print \"Done.\""
   ]
  },
  {
   "cell_type": "code",
   "execution_count": 53,
   "metadata": {
    "collapsed": false
   },
   "outputs": [
    {
     "name": "stdout",
     "output_type": "stream",
     "text": [
      "Done.\n"
     ]
    }
   ],
   "source": [
    "train_keys = []\n",
    "for smiles in smiles_t:\n",
    "    m = Chem.MolFromSmiles(smiles)\n",
    "    keys = MACCSkeys.GenMACCSKeys(m)\n",
    "    train_keys.append(keys)\n",
    "print \"Done.\""
   ]
  },
  {
   "cell_type": "code",
   "execution_count": 54,
   "metadata": {
    "collapsed": false,
    "scrolled": true
   },
   "outputs": [],
   "source": [
    "xtrain = pd.DataFrame(np.ones(len(train_keys)))\n",
    "i = 0\n",
    "for comp in comps_vec:\n",
    "    sims = []\n",
    "    for key in train_keys:\n",
    "        sim = DataStructs.FingerprintSimilarity(comp,key)\n",
    "        sims.append(sim)\n",
    "    xtrain[comp] = sims"
   ]
  },
  {
   "cell_type": "code",
   "execution_count": 55,
   "metadata": {
    "collapsed": false,
    "scrolled": true
   },
   "outputs": [
    {
     "name": "stdout",
     "output_type": "stream",
     "text": [
      "Done.\n"
     ]
    }
   ],
   "source": [
    "# valid_keys = []\n",
    "# for smiles in smiles_v:\n",
    "#     m = Chem.MolFromSmiles(smiles)\n",
    "#     keys = MACCSkeys.GenMACCSKeys(m)\n",
    "#     valid_keys.append(keys)\n",
    "# print \"Done.\""
   ]
  },
  {
   "cell_type": "code",
   "execution_count": null,
   "metadata": {
    "collapsed": true
   },
   "outputs": [],
   "source": [
    "test_keys = []\n",
    "for smiles in smiles_test:\n",
    "    m = Chem.MolFromSmiles(smiles)\n",
    "    keys = MACCSkeys.GenMACCSKeys(m)\n",
    "    test_keys.append(keys)\n",
    "print \"Done.\""
   ]
  },
  {
   "cell_type": "code",
   "execution_count": 56,
   "metadata": {
    "collapsed": true
   },
   "outputs": [],
   "source": [
    "# xvalid = pd.DataFrame(np.ones(len(valid_keys)))\n",
    "# for comp in comps_vec:\n",
    "#     sims = []\n",
    "#     for key in valid_keys:\n",
    "#         sim = DataStructs.FingerprintSimilarity(comp,key)\n",
    "#         sims.append(sim)\n",
    "#     xvalid[comp] = sims"
   ]
  },
  {
   "cell_type": "code",
   "execution_count": null,
   "metadata": {
    "collapsed": true
   },
   "outputs": [],
   "source": [
    "xtest = pd.DataFrame(np.ones(len(test_keys)))\n",
    "for comp in comps_vec:\n",
    "    sims = []\n",
    "    for key in test_keys:\n",
    "        sim = DataStructs.FingerprintSimilarity(comp,key)\n",
    "        sims.append(sim)\n",
    "    xtest[comp] = sims"
   ]
  },
  {
   "cell_type": "code",
   "execution_count": 57,
   "metadata": {
    "collapsed": true
   },
   "outputs": [],
   "source": [
    "rf = sklearn.ensemble.RandomForestRegressor()\n",
    "rf.fit(xtrain,ytrain)\n",
    "pred = rf.predict(xtest) \n"
   ]
  },
  {
   "cell_type": "code",
   "execution_count": null,
   "metadata": {
    "collapsed": true
   },
   "outputs": [],
   "source": [
    "pred.to_csv(\"preds_MACCS.csv\",index=None)"
   ]
  },
  {
   "cell_type": "code",
   "execution_count": 58,
   "metadata": {
    "collapsed": false
   },
   "outputs": [
    {
     "data": {
      "text/plain": [
       "0.065621754243096603"
      ]
     },
     "execution_count": 58,
     "metadata": {},
     "output_type": "execute_result"
    }
   ],
   "source": [
    "error = mean_squared_error(yvalid,pred)\n",
    "error"
   ]
  },
  {
   "cell_type": "code",
   "execution_count": null,
   "metadata": {
    "collapsed": true
   },
   "outputs": [],
   "source": []
  }
 ],
 "metadata": {
  "hide_input": false,
  "kernelspec": {
   "display_name": "Python 2",
   "language": "python",
   "name": "python2"
  },
  "language_info": {
   "codemirror_mode": {
    "name": "ipython",
    "version": 2
   },
   "file_extension": ".py",
   "mimetype": "text/x-python",
   "name": "python",
   "nbconvert_exporter": "python",
   "pygments_lexer": "ipython2",
   "version": "2.7.13"
  },
  "latex_envs": {
   "bibliofile": "biblio.bib",
   "cite_by": "apalike",
   "current_citInitial": 1,
   "eqLabelWithNumbers": true,
   "eqNumInitial": 0
  },
  "toc": {
   "toc_cell": false,
   "toc_number_sections": true,
   "toc_threshold": 6,
   "toc_window_display": false
  }
 },
 "nbformat": 4,
 "nbformat_minor": 0
}
