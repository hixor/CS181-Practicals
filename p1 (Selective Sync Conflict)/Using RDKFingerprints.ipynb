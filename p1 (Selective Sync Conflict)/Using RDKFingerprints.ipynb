{
 "cells": [
  {
   "cell_type": "code",
   "execution_count": 1,
   "metadata": {
    "collapsed": true
   },
   "outputs": [],
   "source": [
    "from sklearn import linear_model\n",
    "from sklearn.metrics import mean_squared_error\n",
    "from sklearn.ensemble import GradientBoostingRegressor\n",
    "import sklearn.ensemble\n",
    "import xgboost as xgb\n",
    "from xgboost.sklearn import XGBClassifier\n",
    "import matplotlib.pyplot as plt\n",
    "import numpy as np\n",
    "import pandas as pd\n",
    "%matplotlib inline\n",
    "from rdkit import Chem, DataStructs\n",
    "from rdkit.Chem import AllChem\n",
    "from rdkit.Chem import rdMolDescriptors as desc\n",
    "from rdkit.DataStructs import cDataStructs as ds\n",
    "from rdkit.DataStructs import UIntSparseIntVect as usv\n"
   ]
  },
  {
   "cell_type": "code",
   "execution_count": 2,
   "metadata": {
    "collapsed": true
   },
   "outputs": [],
   "source": [
    "trainset = pd.read_csv('orig_train.csv')\n",
    "testset = pd.read_csv('orig_test.csv')\n",
    "smiles_train = trainset['smiles']\n",
    "smiles_test = testset['smiles']\n",
    "testID = testset['Id']\n",
    "train = trainset.drop('smiles',1)\n",
    "test = testset.drop(['smiles','Id'],1)"
   ]
  },
  {
   "cell_type": "code",
   "execution_count": 3,
   "metadata": {
    "collapsed": true
   },
   "outputs": [],
   "source": [
    "ytrain = train['gap']\n",
    "xtrain = train.drop('gap',1)"
   ]
  },
  {
   "cell_type": "code",
   "execution_count": 8,
   "metadata": {
    "collapsed": false
   },
   "outputs": [
    {
     "name": "stdout",
     "output_type": "stream",
     "text": [
      "Written train 1000\n",
      "Written train 2000\n",
      "Written train 3000\n",
      "Written train 4000\n",
      "Written train 5000\n",
      "Written train 6000\n",
      "Written train 7000\n",
      "Written train 8000\n",
      "Written train 9000\n",
      "Written train 10000\n"
     ]
    }
   ],
   "source": [
    "mat = np.matrix([0]*500)\n",
    "count = 0\n",
    "for smiles in smiles_train[:10000]:\n",
    "    m = Chem.MolFromSmiles(smiles)\n",
    "    fp = AllChem.RDKFingerprint(m,fpSize=500)\n",
    "    arr = np.zeros((1,))\n",
    "    DataStructs.ConvertToNumpyArray(fp, arr)\n",
    "    mat = np.vstack((mat,arr))\n",
    "    \n",
    "    count = count+1\n",
    "    if count%1000 == 0:\n",
    "        print \"Written train\", count\n",
    "np.savetxt(\"RDFtrain.csv\",mat,delimiter=\",\")"
   ]
  },
  {
   "cell_type": "code",
   "execution_count": null,
   "metadata": {
    "collapsed": false
   },
   "outputs": [
    {
     "name": "stdout",
     "output_type": "stream",
     "text": [
      "Written train 1000\n",
      "Written train 2000\n",
      "Written train 3000\n",
      "Written train 4000\n",
      "Written train 5000\n",
      "Written train 6000\n",
      "Written train 7000\n",
      "Written train 8000\n",
      "Written train 9000\n",
      "Written train 10000\n",
      "Written train 11000\n",
      "Written train 12000\n",
      "Written train 13000\n",
      "Written train 14000\n",
      "Written train 15000\n",
      "Written train 16000\n",
      "Written train 17000\n",
      "Written train 18000\n",
      "Written train 19000\n",
      "Written train 20000\n",
      "Written train 21000\n",
      "Written train 22000\n",
      "Written train 23000\n",
      "Written train 24000\n",
      "Written train 25000\n",
      "Written train 26000\n",
      "Written train 27000\n",
      "Written train 28000\n",
      "Written train 29000\n",
      "Written train 30000\n",
      "Written train 31000\n",
      "Written train 32000\n",
      "Written train 33000\n",
      "Written train 34000\n",
      "Written train 35000\n",
      "Written train 36000\n",
      "Written train 37000\n",
      "Written train 38000\n",
      "Written train 39000\n",
      "Written train 40000\n",
      "Written train 41000\n",
      "Written train 42000\n",
      "Written train 43000\n",
      "Written train 44000\n",
      "Written train 45000\n",
      "Written train 46000\n",
      "Written train 47000\n",
      "Written train 48000\n",
      "Written train 49000\n",
      "Written train 50000\n",
      "Written train 51000\n",
      "Written train 52000\n",
      "Written train 53000\n",
      "Written train 54000\n",
      "Written train 55000\n",
      "Written train 56000\n",
      "Written train 57000\n",
      "Written train 58000\n",
      "Written train 59000\n",
      "Written train 60000\n"
     ]
    }
   ],
   "source": [
    "f = open(\"RDFtrain.csv\", \"a\")\n",
    "\n",
    "mat = np.matrix([0]*500)\n",
    "count = 0\n",
    "for i in range(1,4):\n",
    "    for smiles in smiles_train[i*10000:(i+2)*10000]:\n",
    "        m = Chem.MolFromSmiles(smiles)\n",
    "        fp = AllChem.RDKFingerprint(m,fpSize=500)\n",
    "        arr = np.zeros((1,))\n",
    "        DataStructs.ConvertToNumpyArray(fp, arr)\n",
    "        mat = np.vstack((mat,arr))\n",
    "        count = count+1\n",
    "        if count%1000 == 0:\n",
    "            print \"Written train\", count\n",
    "    np.savetxt(f, mat,delimiter=\",\")"
   ]
  },
  {
   "cell_type": "code",
   "execution_count": null,
   "metadata": {
    "collapsed": false
   },
   "outputs": [
    {
     "name": "stdout",
     "output_type": "stream",
     "text": [
      "Written test 10000\n",
      "Written test 20000\n",
      "Written test 30000\n",
      "Written test 40000\n",
      "Written test 50000\n",
      "Written test 60000\n",
      "Written test 70000\n",
      "Written test 80000\n",
      "Written test 90000\n",
      "Written test 100000\n",
      "Written test 110000\n",
      "Written test 120000\n",
      "Written test 130000\n",
      "Written test 140000\n",
      "Written test"
     ]
    }
   ],
   "source": [
    "mat1 = np.matrix([0]*500)\n",
    "count = 0\n",
    "for smiles in smiles_test:\n",
    "    m = Chem.MolFromSmiles(smiles)\n",
    "    fp = AllChem.RDKFingerprint(m,fpSize=500)\n",
    "    arr = np.zeros((1,))\n",
    "    DataStructs.ConvertToNumpyArray(fp, arr)\n",
    "    mat1 = np.vstack((mat1,arr))\n",
    "    count = count+1\n",
    "    if count%10000 == 0:\n",
    "        print \"Written test\", count\n",
    "np.savetxt(\"RDFtest.csv\",mat1,delimiter=\",\")"
   ]
  },
  {
   "cell_type": "code",
   "execution_count": null,
   "metadata": {
    "collapsed": true,
    "hide_input": true
   },
   "outputs": [],
   "source": [
    "f = open(\"RDFtest.csv\", \"a\")\n",
    "\n",
    "mat1 = np.matrix([0]*500)\n",
    "count = 0\n",
    "i = 5\n",
    "for smiles in smiles_train[i*10000:(i+2)*10000]:\n",
    "    m = Chem.MolFromSmiles(smiles)\n",
    "    fp = AllChem.RDKFingerprint(m,fpSize=500)\n",
    "    arr = np.zeros((1,))\n",
    "    DataStructs.ConvertToNumpyArray(fp, arr)\n",
    "    mat1 = np.vstack((mat1,arr))\n",
    "    count = count+1\n",
    "    if count%1000 == 0:\n",
    "        print \"Written test\", count\n",
    "np.savetxt(f, mat1,delimiter=\",\")"
   ]
  },
  {
   "cell_type": "code",
   "execution_count": null,
   "metadata": {
    "collapsed": true
   },
   "outputs": [],
   "source": [
    "train0 = pd.read_csv(\"RDFtrain.csv\")\n",
    "test0 = pd.read_csv(\"RDFtest.csv\")"
   ]
  },
  {
   "cell_type": "code",
   "execution_count": null,
   "metadata": {
    "collapsed": true
   },
   "outputs": [],
   "source": [
    "rand_for = sklearn.ensemble.RandomForestRegressor()\n",
    "rand_for.fit(train0,ytrain)\n"
   ]
  },
  {
   "cell_type": "code",
   "execution_count": null,
   "metadata": {
    "collapsed": true
   },
   "outputs": [],
   "source": [
    "preds_rf = rand_for.predict(test0) "
   ]
  },
  {
   "cell_type": "code",
   "execution_count": null,
   "metadata": {
    "collapsed": true
   },
   "outputs": [],
   "source": [
    "np.savetxt(\"RDKpreds.csv\",preds_rf,delimiter=\",\")"
   ]
  },
  {
   "cell_type": "code",
   "execution_count": null,
   "metadata": {
    "collapsed": true
   },
   "outputs": [],
   "source": []
  }
 ],
 "metadata": {
  "hide_input": false,
  "kernelspec": {
   "display_name": "Python 2",
   "language": "python",
   "name": "python2"
  },
  "language_info": {
   "codemirror_mode": {
    "name": "ipython",
    "version": 2
   },
   "file_extension": ".py",
   "mimetype": "text/x-python",
   "name": "python",
   "nbconvert_exporter": "python",
   "pygments_lexer": "ipython2",
   "version": "2.7.13"
  },
  "latex_envs": {
   "bibliofile": "biblio.bib",
   "cite_by": "apalike",
   "current_citInitial": 1,
   "eqLabelWithNumbers": true,
   "eqNumInitial": 0
  },
  "toc": {
   "toc_cell": false,
   "toc_number_sections": true,
   "toc_threshold": 6,
   "toc_window_display": false
  }
 },
 "nbformat": 4,
 "nbformat_minor": 0
}
