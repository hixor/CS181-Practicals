{
 "cells": [
  {
   "cell_type": "code",
   "execution_count": 3,
   "metadata": {
    "collapsed": false
   },
   "outputs": [],
   "source": [
    "# Read from file and extract X and Y\n",
    "df = pd.read_csv(\"fruit.csv\")\n",
    "X = df[['width', 'height']].values\n",
    "Y = (df['fruit'] - 1).values"
   ]
  },
  {
   "cell_type": "code",
   "execution_count": 10,
   "metadata": {
    "collapsed": true
   },
   "outputs": [],
   "source": [
    "import numpy as np\n",
    "import matplotlib.pyplot as plt\n",
    "import matplotlib.colors as c\n",
    "from scipy.misc import logsumexp\n",
    "import pandas as pd\n",
    "from sklearn import preprocessing\n",
    "\n",
    "# Please implement the fit and predict methods of this class. You can add additional private methods\n",
    "# by beginning them with two underscores. It may look like the __dummyPrivateMethod below.\n",
    "# You can feel free to change any of the class attributes, as long as you do not change any of \n",
    "# the given function headers (they must take and return the same arguments), and as long as you\n",
    "# don't change anything in the .visualize() method. \n",
    "class LogisticRegression:\n",
    "    def __init__(self, eta, lambda_parameter=0):\n",
    "        self.eta = eta\n",
    "        self.lambda_parameter = lambda_parameter\n",
    "        self.theta = None\n",
    "    \n",
    "    def softmax(self,mat,k):\n",
    "        exps = np.exp(mat)\n",
    "        denom = np.array([np.sum(exps,1), ]*k).transpose()\n",
    "        return exps/denom\n",
    "\n",
    "\n",
    "    def fit(self, X, C):\n",
    "        X = np.column_stack((np.ones(len(X)), X))\n",
    "        X = preprocessing.scale(X)\n",
    "        \n",
    "        n = X.shape[0]\n",
    "        m = X.shape[1]\n",
    "        k = 3\n",
    "        num_iters = 1000\n",
    "        theta = np.zeros((m,k))\n",
    "\n",
    "        \n",
    "        for i in range(num_iters):\n",
    "            h = np.dot(X,theta) \n",
    "            probs = self.softmax(h,k)\n",
    "            deltas = probs - np.array(pd.get_dummies(C))\n",
    "            grad = np.dot(X.T, deltas)/len(X) + (self.lambda_parameter/m)*theta\n",
    "            theta = theta - self.eta*grad\n",
    "        self.theta = theta\n",
    "        \n",
    "        return self\n",
    "\n",
    "    def predict(self, X_to_predict):\n",
    "        X_to_predict = np.column_stack((np.ones(len(X_to_predict)), X_to_predict))\n",
    "        h_pred = np.dot(X_to_predict, self.theta)\n",
    "        pred_probs = self.softmax(h_pred,3)\n",
    "        return np.argmax(pred_probs,axis=1)\n",
    "\n",
    "    def visualize(self, output_file, width=2, show_charts=False):\n",
    "        X = self.X\n",
    "\n",
    "        # Create a grid of points\n",
    "        x_min, x_max = min(X[:, 0] - width), max(X[:, 0] + width)\n",
    "        y_min, y_max = min(X[:, 1] - width), max(X[:, 1] + width)\n",
    "        xx,yy = np.meshgrid(np.arange(x_min, x_max, .05), np.arange(y_min,\n",
    "            y_max, .05))\n",
    "\n",
    "        # Flatten the grid so the values match spec for self.predict\n",
    "        xx_flat = xx.flatten()\n",
    "        yy_flat = yy.flatten()\n",
    "        X_topredict = np.vstack((xx_flat,yy_flat)).T\n",
    "\n",
    "        # Get the class predictions\n",
    "        Y_hat = self.predict(X_topredict)\n",
    "        Y_hat = Y_hat.reshape((xx.shape[0], xx.shape[1]))\n",
    "        \n",
    "        cMap = c.ListedColormap(['r','b','g'])\n",
    "\n",
    "        # Visualize them.\n",
    "        plt.figure()\n",
    "        plt.pcolormesh(xx,yy,Y_hat, cmap=cMap)\n",
    "        plt.scatter(X[:, 0], X[:, 1], c=self.C, cmap=cMap)\n",
    "        plt.savefig(output_file)\n",
    "        if show_charts:\n",
    "            plt.show()\n"
   ]
  },
  {
   "cell_type": "code",
   "execution_count": null,
   "metadata": {
    "collapsed": false
   },
   "outputs": [],
   "source": [
    "lr = LogisticRegression(.001,10)\n",
    "lr.fit(X,Y)\n",
    "lr.predict(X)"
   ]
  },
  {
   "cell_type": "code",
   "execution_count": null,
   "metadata": {
    "collapsed": true
   },
   "outputs": [],
   "source": []
  }
 ],
 "metadata": {
  "hide_input": false,
  "kernelspec": {
   "display_name": "Python 2",
   "language": "python",
   "name": "python2"
  },
  "language_info": {
   "codemirror_mode": {
    "name": "ipython",
    "version": 2
   },
   "file_extension": ".py",
   "mimetype": "text/x-python",
   "name": "python",
   "nbconvert_exporter": "python",
   "pygments_lexer": "ipython2",
   "version": "2.7.13"
  },
  "latex_envs": {
   "bibliofile": "biblio.bib",
   "cite_by": "apalike",
   "current_citInitial": 1,
   "eqLabelWithNumbers": true,
   "eqNumInitial": 0
  },
  "toc": {
   "toc_cell": false,
   "toc_number_sections": true,
   "toc_threshold": 6,
   "toc_window_display": false
  }
 },
 "nbformat": 4,
 "nbformat_minor": 0
}
