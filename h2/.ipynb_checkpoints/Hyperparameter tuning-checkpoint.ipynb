{
 "cells": [
  {
   "cell_type": "code",
   "execution_count": 27,
   "metadata": {
    "collapsed": false
   },
   "outputs": [],
   "source": [
    "%matplotlib inline"
   ]
  },
  {
   "cell_type": "code",
   "execution_count": 1,
   "metadata": {
    "collapsed": true,
    "deletable": true,
    "editable": true
   },
   "outputs": [],
   "source": [
    "from scipy.stats import multivariate_normal\n",
    "import numpy as np\n",
    "import matplotlib.pyplot as plt\n",
    "import matplotlib.colors as c\n",
    "import pandas as pd\n",
    "\n",
    "# Please implement the fit and predict methods of this class. You can add additional private methods\n",
    "# by beginning them with two underscores. It may look like the __dummyPrivateMethod below.\n",
    "# You can feel free to change any of the class attributes, as long as you do not change any of \n",
    "# the given function headers (they must take and return the same arguments), and as long as you\n",
    "# don't change anything in the .visualize() method. \n",
    "class GaussianGenerativeModel:\n",
    "    def __init__(self, isSharedCovariance=False):\n",
    "        self.isSharedCovariance = isSharedCovariance\n",
    "        self.sigma1 = None\n",
    "        self.sigma2 = None\n",
    "        self.sigma3 = None\n",
    "        self.mu1 = None\n",
    "        self.mu2 = None\n",
    "        self.mu3 = None\n",
    "        self.preds = None\n",
    "\n",
    "    \n",
    "    def __fruit_data(self):\n",
    "        self.fruit = pd.read_csv(\"fruit.csv\")\n",
    "        self.X = self.fruit[[\"width\",\"height\"]]\n",
    "        self.y = self.fruit[\"fruit\"]\n",
    "\n",
    "    \n",
    "    def fit(self, X, Y):\n",
    "        self.X = X\n",
    "        self.Y = Y\n",
    "        c1 = X[Y==0]\n",
    "        c2 = X[Y==1]\n",
    "        c3 = X[Y==2]\n",
    "        self.mu1 = np.mean(c1,axis=0)\n",
    "        self.mu2 = np.mean(c2,axis=0)\n",
    "        self.mu3 = np.mean(c3,axis=0)\n",
    "        if self.isSharedCovariance:\n",
    "            self.sigma1 = np.cov(X.transpose())\n",
    "            self.sigma2 = np.cov(X.transpose())\n",
    "            self.sigma3 = np.cov(X.transpose())\n",
    "        else:\n",
    "            self.sigma1 = np.cov(c1.transpose())\n",
    "            self.sigma2 = np.cov(c2.transpose())\n",
    "            self.sigma3 = np.cov(c3.transpose())\n",
    "        return self\n",
    "    \n",
    "    \n",
    "    def predict(self, X_to_predict):\n",
    "\n",
    "        p1 = multivariate_normal.pdf(X_to_predict, mean=self.mu1, cov=self.sigma1)\n",
    "        p2 = multivariate_normal.pdf(X_to_predict, mean=self.mu2, cov=self.sigma2)\n",
    "        p3 = multivariate_normal.pdf(X_to_predict, mean=self.mu3, cov=self.sigma3)\n",
    "        self.preds = pd.DataFrame({\"Class 1\":p1, \"Class 2\": p2, \"Class 3\": p3})\n",
    "               \n",
    "        return np.argmax(np.array(preds),axis=1) \n",
    "    \n",
    "    \n",
    "\n",
    "    # Do not modify this method!\n",
    "    def visualize(self, output_file, width=3, show_charts=True):\n",
    "        X = self.X\n",
    "\n",
    "        # Create a grid of points\n",
    "        x_min, x_max = min(X[:, 0] - width), max(X[:, 0] + width)\n",
    "        y_min, y_max = min(X[:, 1] - width), max(X[:, 1] + width)\n",
    "        xx,yy = np.meshgrid(np.arange(x_min, x_max, .005), np.arange(y_min,\n",
    "            y_max, .005))\n",
    "\n",
    "        # Flatten the grid so the values match spec for self.predict\n",
    "        xx_flat = xx.flatten()\n",
    "        yy_flat = yy.flatten()\n",
    "        X_topredict = np.vstack((xx_flat,yy_flat)).T\n",
    "\n",
    "        # Get the class predictions\n",
    "        Y_hat = self.predict(X_topredict)\n",
    "        Y_hat = Y_hat.reshape((xx.shape[0], xx.shape[1]))\n",
    "\n",
    "        cMap = c.ListedColormap(['r','b','g'])\n",
    "\n",
    "        # Visualize them.\n",
    "        plt.figure()\n",
    "        plt.pcolormesh(xx,yy,Y_hat, cmap=cMap)\n",
    "        plt.scatter(X[:, 0], X[:, 1], c=self.Y, cmap=cMap)\n",
    "        plt.savefig(output_file)\n",
    "        if show_charts:\n",
    "            plt.show()\n"
   ]
  },
  {
   "cell_type": "code",
   "execution_count": null,
   "metadata": {
    "collapsed": true
   },
   "outputs": [],
   "source": [
    "# Read from file and extract X and Y\n",
    "df = pd.read_csv(\"fruit.csv\")\n",
    "X = df[['width', 'height']].values\n",
    "Y = (df['fruit'] - 1).values\n",
    "\n",
    "nb1 = GaussianGenerativeModel(isSharedCovariance=False)\n",
    "nb1.fit(X,Y)\n",
    "nb1.visualize(\"generative_result_separate_covariances.png\")\n",
    "\n",
    "nb2 = GaussianGenerativeModel(isSharedCovariance=True)\n",
    "nb2.fit(X,Y)\n",
    "nb2.visualize(\"generative_result_shared_covariances.png\")"
   ]
  },
  {
   "cell_type": "code",
   "execution_count": 58,
   "metadata": {
    "collapsed": false,
    "deletable": true,
    "editable": true
   },
   "outputs": [],
   "source": [
    "import numpy as np\n",
    "import matplotlib.pyplot as plt\n",
    "import matplotlib.colors as c\n",
    "from scipy.misc import logsumexp\n",
    "import pandas as pd\n",
    "from sklearn import preprocessing\n",
    "\n",
    "# Please implement the fit and predict methods of this class. You can add additional private methods\n",
    "# by beginning them with two underscores. It may look like the __dummyPrivateMethod below.\n",
    "# You can feel free to change any of the class attributes, as long as you do not change any of \n",
    "# the given function headers (they must take and return the same arguments), and as long as you\n",
    "# don't change anything in the .visualize() method. \n",
    "class LogisticRegression:\n",
    "    def __init__(self, eta, lambda_parameter=0):\n",
    "        self.eta = eta\n",
    "        self.lambda_parameter = lambda_parameter\n",
    "        self.theta = None\n",
    "        self.errors = None\n",
    "    \n",
    "    def softmax(self,mat,k):\n",
    "        exps = np.exp(mat)\n",
    "        denom = np.array([np.sum(exps,1), ]*k).transpose()\n",
    "        return exps/denom\n",
    "\n",
    "\n",
    "    def fit(self, X, C):\n",
    "        X = np.column_stack((np.ones(len(X)), X))\n",
    "        self.X = preprocessing.scale(X)\n",
    "        self.C = C\n",
    "        \n",
    "        n = X.shape[0]\n",
    "        m = X.shape[1]\n",
    "        k = 3\n",
    "        num_iters = 1000\n",
    "        theta = np.zeros((m,k))\n",
    "\n",
    "        self.errors = []\n",
    "        for i in range(num_iters):\n",
    "            h = np.dot(X,theta) \n",
    "            probs = self.softmax(h,k)\n",
    "            deltas = probs - np.array(pd.get_dummies(C))\n",
    "            self.errors.append(sum(sum(np.log(np.absolute(deltas))))/m)\n",
    "            grad = np.dot(X.T, deltas)/len(X) + (self.lambda_parameter/m)*theta\n",
    "            theta = theta - self.eta*grad\n",
    "        self.theta = theta\n",
    "        self.final_err = sum(sum(np.absolute(deltas)))/m\n",
    "        \n",
    "        return self\n",
    "\n",
    "    def predict(self, X_to_predict):\n",
    "        X_to_predict = np.column_stack((np.ones(len(X_to_predict)), X_to_predict))\n",
    "        h_pred = np.dot(X_to_predict, self.theta)\n",
    "        pred_probs = self.softmax(h_pred,3)\n",
    "        return np.argmax(pred_probs,axis=1)\n",
    "\n",
    "    def visualize(self, output_file, width=2, show_charts=True):\n",
    "        X = self.X\n",
    "\n",
    "        # Create a grid of points\n",
    "        x_min, x_max = min(X[:, 0] - width), max(X[:, 0] + width)\n",
    "        y_min, y_max = min(X[:, 1] - width), max(X[:, 1] + width)\n",
    "        xx,yy = np.meshgrid(np.arange(x_min, x_max, .05), np.arange(y_min,\n",
    "            y_max, .05))\n",
    "\n",
    "        # Flatten the grid so the values match spec for self.predict\n",
    "        xx_flat = xx.flatten()\n",
    "        yy_flat = yy.flatten()\n",
    "        X_topredict = np.vstack((xx_flat,yy_flat)).T\n",
    "\n",
    "        # Get the class predictions\n",
    "        Y_hat = self.predict(X_topredict)\n",
    "        Y_hat = Y_hat.reshape((xx.shape[0], xx.shape[1]))\n",
    "        \n",
    "        cMap = c.ListedColormap(['r','b','g'])\n",
    "\n",
    "        # Visualize them.\n",
    "        plt.figure()\n",
    "        plt.pcolormesh(xx,yy,Y_hat, cmap=cMap)\n",
    "        plt.scatter(X[:, 0], X[:, 1], c=self.C, cmap=cMap)\n",
    "        plt.savefig(output_file)\n",
    "        if show_charts:\n",
    "            plt.show()\n"
   ]
  },
  {
   "cell_type": "code",
   "execution_count": 31,
   "metadata": {
    "collapsed": true,
    "deletable": true,
    "editable": true
   },
   "outputs": [],
   "source": []
  },
  {
   "cell_type": "code",
   "execution_count": 47,
   "metadata": {
    "collapsed": false,
    "deletable": true,
    "editable": true
   },
   "outputs": [
    {
     "data": {
      "image/png": "[encoded data removed]",
      "text/plain": [
       "<matplotlib.figure.Figure at 0x1100c1850>"
      ]
     },
     "metadata": {},
     "output_type": "display_data"
    }
   ],
   "source": [
    "# Don't change these imports. Note that the last two are the\n",
    "# class implementations that you will implement in\n",
    "# LogisticRegression.py and GaussianNaiveBayes.py\n",
    "import matplotlib.pyplot as plt\n",
    "import pandas as pd\n",
    "#from LogisticRegression import LogisticRegression\n",
    "#from GaussianGenerativeModel import GaussianGenerativeModel\n",
    "\n",
    "\n",
    "## These are the hyperparameters to the classifiers. You may need to\n",
    "# adjust these as you try to find the best fit for each classifier.\n",
    "\n",
    "# Logistic Regression parameters\n",
    "eta = .63\n",
    "lambda_parameter = 1\n",
    "\n",
    "\n",
    "# Do not change anything below this line!!\n",
    "# -----------------------------------------------------------------\n",
    "\n",
    "# Read from file and extract X and Y\n",
    "df = pd.read_csv(\"fruit.csv\")\n",
    "X = df[['width', 'height']].values\n",
    "Y = (df['fruit'] - 1).values\n",
    "\n",
    "#nb1 = GaussianGenerativeModel(isSharedCovariance=False)\n",
    "#nb1.fit(X,Y)\n",
    "#nb1.visualize(\"generative_result_separate_covariances.png\")\n",
    "\n",
    "#nb2 = GaussianGenerativeModel(isSharedCovariance=True)\n",
    "#nb2.fit(X,Y)\n",
    "#nb2.visualize(\"generative_result_shared_covariances.png\")\n",
    "\n",
    "lr = LogisticRegression(eta=eta, lambda_parameter=lambda_parameter)\n",
    "lr.fit(X,Y)\n",
    "lr.visualize('logistic_regression_result.png')"
   ]
  },
  {
   "cell_type": "code",
   "execution_count": 28,
   "metadata": {
    "collapsed": false
   },
   "outputs": [
    {
     "data": {
      "text/plain": [
       "[<matplotlib.lines.Line2D at 0x1107b5d90>]"
      ]
     },
     "execution_count": 28,
     "metadata": {},
     "output_type": "execute_result"
    },
    {
     "data": {
      "image/png": "[encoded data removed]",
      "text/plain": [
       "<matplotlib.figure.Figure at 0x1103d3d90>"
      ]
     },
     "metadata": {},
     "output_type": "display_data"
    }
   ],
   "source": [
    "err = lr.errors\n",
    "plt.plot(range(len(err)),err)"
   ]
  },
  {
   "cell_type": "code",
   "execution_count": 49,
   "metadata": {
    "collapsed": false
   },
   "outputs": [
    {
     "name": "stdout",
     "output_type": "stream",
     "text": [
      "[0.01, 0.05, 0.1, 0.5, 1, 5]\n",
      "[0, 0.1, 0.5, 1, 5, 10, 50, 100]\n"
     ]
    }
   ],
   "source": [
    "etas = [0.01,0.05,0.1,0.5,1,5]\n",
    "lambdas = [0,0.1,0.5,1,5,10,50,100]\n",
    "print etas\n",
    "print lambdas"
   ]
  },
  {
   "cell_type": "code",
   "execution_count": 63,
   "metadata": {
    "collapsed": false
   },
   "outputs": [
    {
     "data": {
      "text/plain": [
       "array([ 0.  ,  0.01,  0.02,  0.03,  0.04,  0.05,  0.06,  0.07,  0.08,\n",
       "        0.09,  0.1 ,  0.11,  0.12,  0.13,  0.14,  0.15,  0.16,  0.17,\n",
       "        0.18,  0.19,  0.2 ,  0.21,  0.22,  0.23,  0.24,  0.25,  0.26,\n",
       "        0.27,  0.28,  0.29,  0.3 ,  0.31,  0.32,  0.33,  0.34,  0.35,\n",
       "        0.36,  0.37,  0.38,  0.39,  0.4 ,  0.41,  0.42,  0.43,  0.44,\n",
       "        0.45,  0.46,  0.47,  0.48,  0.49,  0.5 ,  0.51,  0.52,  0.53,\n",
       "        0.54,  0.55,  0.56,  0.57,  0.58,  0.59,  0.6 ,  0.61,  0.62,\n",
       "        0.63,  0.64,  0.65,  0.66,  0.67,  0.68,  0.69,  0.7 ,  0.71,\n",
       "        0.72,  0.73,  0.74,  0.75,  0.76,  0.77,  0.78,  0.79,  0.8 ,\n",
       "        0.81,  0.82,  0.83,  0.84,  0.85,  0.86,  0.87,  0.88,  0.89,\n",
       "        0.9 ,  0.91,  0.92,  0.93,  0.94,  0.95,  0.96,  0.97,  0.98,  0.99])"
      ]
     },
     "execution_count": 63,
     "metadata": {},
     "output_type": "execute_result"
    }
   ],
   "source": [
    "etas1 = np.array(range(100))/float(100)\n",
    "etas1"
   ]
  },
  {
   "cell_type": "code",
   "execution_count": 64,
   "metadata": {
    "collapsed": false
   },
   "outputs": [
    {
     "name": "stderr",
     "output_type": "stream",
     "text": [
      "/usr/local/lib/python2.7/site-packages/ipykernel/__main__.py:42: RuntimeWarning: divide by zero encountered in log\n",
      "/usr/local/lib/python2.7/site-packages/ipykernel/__main__.py:21: RuntimeWarning: overflow encountered in exp\n",
      "/usr/local/lib/python2.7/site-packages/ipykernel/__main__.py:23: RuntimeWarning: invalid value encountered in divide\n",
      "/usr/local/lib/python2.7/site-packages/ipykernel/__main__.py:42: RuntimeWarning: invalid value encountered in absolute\n",
      "/usr/local/lib/python2.7/site-packages/ipykernel/__main__.py:46: RuntimeWarning: invalid value encountered in absolute\n"
     ]
    }
   ],
   "source": [
    "eta_errs = []\n",
    "for eta in etas1:\n",
    "    reg1 = LogisticRegression(eta=eta, lambda_parameter=lamb)\n",
    "    reg1.fit(X,Y)\n",
    "    eta_errs.append(reg1.final_err)"
   ]
  },
  {
   "cell_type": "code",
   "execution_count": 50,
   "metadata": {
    "collapsed": false,
    "deletable": true,
    "editable": true,
    "scrolled": true
   },
   "outputs": [
    {
     "name": "stdout",
     "output_type": "stream",
     "text": [
      "eta:  0.01\n",
      "lambda:  0\n",
      "lambda:  0.1\n",
      "lambda:  0.5\n",
      "lambda:  1\n",
      "lambda:  5\n",
      "lambda:  10\n",
      "lambda:  50\n",
      "lambda:  100\n",
      "eta:  0.05\n",
      "lambda:  0\n",
      "lambda:  0.1\n",
      "lambda:  0.5\n",
      "lambda:  1\n",
      "lambda:  5\n",
      "lambda:  10\n",
      "lambda:  50\n",
      "lambda:  100\n",
      "eta:  0.1\n",
      "lambda:  0\n",
      "lambda:  0.1\n",
      "lambda:  0.5\n",
      "lambda:  1\n",
      "lambda:  5\n",
      "lambda:  10\n",
      "lambda:  50\n",
      "lambda:  100\n"
     ]
    },
    {
     "name": "stderr",
     "output_type": "stream",
     "text": [
      "/usr/local/lib/python2.7/site-packages/ipykernel/__main__.py:21: RuntimeWarning: overflow encountered in exp\n",
      "/usr/local/lib/python2.7/site-packages/ipykernel/__main__.py:23: RuntimeWarning: invalid value encountered in divide\n",
      "/usr/local/lib/python2.7/site-packages/ipykernel/__main__.py:42: RuntimeWarning: invalid value encountered in absolute\n",
      "/usr/local/lib/python2.7/site-packages/ipykernel/__main__.py:46: RuntimeWarning: invalid value encountered in absolute\n"
     ]
    },
    {
     "name": "stdout",
     "output_type": "stream",
     "text": [
      "eta:  0.5\n",
      "lambda:  0\n",
      "lambda:  0.1\n",
      "lambda:  0.5\n",
      "lambda:  1\n",
      "lambda:  5\n",
      "lambda:  10\n",
      "lambda:  50\n",
      "lambda:  100\n",
      "eta:  1\n",
      "lambda:  0\n",
      "lambda:  0.1\n",
      "lambda:  0.5\n",
      "lambda:  1\n",
      "lambda:  5\n",
      "lambda:  10\n",
      "lambda:  50\n",
      "lambda:  100\n",
      "eta:  5\n",
      "lambda:  0\n",
      "lambda:  0.1\n",
      "lambda:  0.5\n",
      "lambda:  1\n",
      "lambda:  5\n",
      "lambda:  10\n",
      "lambda:  50\n",
      "lambda:  100\n"
     ]
    }
   ],
   "source": [
    "errs = []\n",
    "\n",
    "for eta in etas:\n",
    "    print \"eta: \", eta\n",
    "    lmb_errs = []\n",
    "    for lamb in lambdas:\n",
    "        print \"lambda: \", lamb\n",
    "        reg = LogisticRegression(eta=eta, lambda_parameter=lamb)\n",
    "        reg.fit(X,Y)\n",
    "        lmb_errs.append(reg.final_err)\n",
    "    errs.append(lmb_errs)\n",
    "        "
   ]
  },
  {
   "cell_type": "code",
   "execution_count": 53,
   "metadata": {
    "collapsed": false
   },
   "outputs": [
    {
     "data": {
      "text/plain": [
       "[15.9086151303042,\n",
       " 19.04661673010024,\n",
       " 24.108175774755924,\n",
       " 15.9086151303042,\n",
       " 23.333421254708565,\n",
       " nan,\n",
       " nan,\n",
       " nan]"
      ]
     },
     "execution_count": 53,
     "metadata": {},
     "output_type": "execute_result"
    }
   ],
   "source": [
    "errs[4]"
   ]
  },
  {
   "cell_type": "code",
   "execution_count": 48,
   "metadata": {
    "collapsed": false
   },
   "outputs": [],
   "source": [
    "many_errs = errs"
   ]
  },
  {
   "cell_type": "code",
   "execution_count": 60,
   "metadata": {
    "collapsed": false
   },
   "outputs": [
    {
     "data": {
      "text/plain": [
       "[26.022516058856791, 23.367371749136655, nan, nan, nan, nan]"
      ]
     },
     "execution_count": 60,
     "metadata": {},
     "output_type": "execute_result"
    }
   ],
   "source": [
    "eta_errs"
   ]
  },
  {
   "cell_type": "code",
   "execution_count": null,
   "metadata": {
    "collapsed": true
   },
   "outputs": [],
   "source": [
    "plt.plot"
   ]
  }
 ],
 "metadata": {
  "kernelspec": {
   "display_name": "Python 2",
   "language": "python",
   "name": "python2"
  },
  "language_info": {
   "codemirror_mode": {
    "name": "ipython",
    "version": 2
   },
   "file_extension": ".py",
   "mimetype": "text/x-python",
   "name": "python",
   "nbconvert_exporter": "python",
   "pygments_lexer": "ipython2",
   "version": "2.7.13"
  }
 },
 "nbformat": 4,
 "nbformat_minor": 2
}
