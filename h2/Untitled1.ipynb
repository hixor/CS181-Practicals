{
 "cells": [
  {
   "cell_type": "code",
   "execution_count": 3,
   "metadata": {
    "collapsed": true,
    "deletable": true,
    "editable": true
   },
   "outputs": [],
   "source": [
    "from scipy.stats import multivariate_normal\n",
    "import numpy as np\n",
    "import matplotlib.pyplot as plt\n",
    "import matplotlib.colors as c\n",
    "import pandas as pd\n",
    "%matplotlib inline"
   ]
  },
  {
   "cell_type": "code",
   "execution_count": 37,
   "metadata": {
    "collapsed": true,
    "deletable": true,
    "editable": true
   },
   "outputs": [],
   "source": []
  },
  {
   "cell_type": "code",
   "execution_count": 4,
   "metadata": {
    "collapsed": false,
    "deletable": true,
    "editable": true
   },
   "outputs": [],
   "source": [
    "class GaussianGenerativeModel:\n",
    "    def __init__(self, isSharedCovariance=False):\n",
    "        self.isSharedCovariance = isSharedCovariance\n",
    "        self.sigma1 = None\n",
    "        self.sigma2 = None\n",
    "        self.sigma3 = None\n",
    "        self.mu1 = None\n",
    "        self.mu2 = None\n",
    "        self.mu3 = None\n",
    "\n",
    "    \n",
    "    def __fruit_data(self):\n",
    "        self.fruit = pd.read_csv(\"fruit.csv\")\n",
    "        self.X = self.fruit[[\"width\",\"height\"]]\n",
    "        self.y = self.fruit[\"fruit\"]\n",
    "\n",
    "    \n",
    "    def fit(self, X, Y):\n",
    "        self.X = X\n",
    "        self.Y = Y\n",
    "        c1 = X[Y==0]\n",
    "        c2 = X[Y==1]\n",
    "        c3 = X[Y==2]\n",
    "        self.mu1 = np.mean(c1,axis=0)\n",
    "        self.mu2 = np.mean(c2,axis=0)\n",
    "        self.mu3 = np.mean(c3,axis=0)\n",
    "        if self.isSharedCovariance:\n",
    "            self.sigma1 = np.cov(X.transpose())\n",
    "            self.sigma2 = np.cov(X.transpose())\n",
    "            self.sigma3 = np.cov(X.transpose())\n",
    "        else:\n",
    "            self.sigma1 = np.cov(c1.transpose())\n",
    "            self.sigma2 = np.cov(c2.transpose())\n",
    "            self.sigma3 = np.cov(c3.transpose())\n",
    "        return self\n",
    "    \n",
    "    \n",
    "    def predict(self, X_to_predict):\n",
    "\n",
    "        #p1 =[]; p2=[]; p3=[]\n",
    "        #pred_x = pd.DataFrame(X_to_predict)\n",
    "        #for x in pred_x.iterrows():\n",
    "        p1 = multivariate_normal.pdf(X_to_predict, mean=self.mu1, cov=self.sigma1)\n",
    "        p2 = multivariate_normal.pdf(X_to_predict, mean=self.mu2, cov=self.sigma2)\n",
    "        p3 = multivariate_normal.pdf(X_to_predict, mean=self.mu3, cov=self.sigma3)\n",
    "        preds = pd.DataFrame({\"Class 1\":p1, \"Class 2\": p2, \"Class 3\": p3})\n",
    "               \n",
    "        return np.argmax(np.array(preds),axis=1) \n",
    "    \n",
    "    \n",
    "\n",
    "    # Do not modify this method!\n",
    "    def visualize(self, output_file, width=3, show_charts=True):\n",
    "        X = self.X\n",
    "\n",
    "        # Create a grid of points\n",
    "        x_min, x_max = min(X[:, 0] - width), max(X[:, 0] + width)\n",
    "        y_min, y_max = min(X[:, 1] - width), max(X[:, 1] + width)\n",
    "        xx,yy = np.meshgrid(np.arange(x_min, x_max, .005), np.arange(y_min,\n",
    "            y_max, .005))\n",
    "\n",
    "        # Flatten the grid so the values match spec for self.predict\n",
    "        xx_flat = xx.flatten()\n",
    "        yy_flat = yy.flatten()\n",
    "        X_topredict = np.vstack((xx_flat,yy_flat)).T\n",
    "\n",
    "        # Get the class predictions\n",
    "        Y_hat = self.predict(X_topredict)\n",
    "        Y_hat = Y_hat.reshape((xx.shape[0], xx.shape[1]))\n",
    "\n",
    "        cMap = c.ListedColormap(['r','b','g'])\n",
    "\n",
    "        # Visualize them.\n",
    "        plt.figure()\n",
    "        #plt.pcolormesh(xx,yy,Y_hat, cmap=cMap)\n",
    "        plt.scatter(X[:, 0], X[:, 1], c=self.Y, cmap=cMap)\n",
    "        #plt.savefig(output_file)\n",
    "        if show_charts:\n",
    "            plt.show()\n"
   ]
  },
  {
   "cell_type": "code",
   "execution_count": 2,
   "metadata": {
    "collapsed": true,
    "deletable": true,
    "editable": true
   },
   "outputs": [],
   "source": [
    " \n",
    "\n",
    "   \n",
    "\n",
    "\n"
   ]
  },
  {
   "cell_type": "code",
   "execution_count": 6,
   "metadata": {
    "collapsed": false,
    "deletable": true,
    "editable": true
   },
   "outputs": [
    {
     "name": "stdout",
     "output_type": "stream",
     "text": [
      "<__main__.GaussianGenerativeModel instance at 0x109db8ea8>\n",
      "[0 0 0 0 0 0 0 0 0 0 0 0 0 0 0 0 0 0 1 1 1 1 1 1 1 1 1 1 1 0 0 1 0 1 0 0 0\n",
      " 0 0 0 0 1 0 2 2 2 2 2 2 2 2 2 2 2 2 2 2 2 2]\n"
     ]
    },
    {
     "data": {
      "image/png": "[encoded data removed]",
      "text/plain": [
       "<matplotlib.figure.Figure at 0x10ca4a890>"
      ]
     },
     "metadata": {},
     "output_type": "display_data"
    },
    {
     "data": {
      "image/png": "[encoded data removed]",
      "text/plain": [
       "<matplotlib.figure.Figure at 0x12e1afcd0>"
      ]
     },
     "metadata": {},
     "output_type": "display_data"
    },
    {
     "ename": "NameError",
     "evalue": "name 'LogisticRegression' is not defined",
     "output_type": "error",
     "traceback": [
      "\u001b[0;31m---------------------------------------------------------------------------\u001b[0m",
      "\u001b[0;31mNameError\u001b[0m                                 Traceback (most recent call last)",
      "\u001b[0;32m<ipython-input-6-758feb95e8c2>\u001b[0m in \u001b[0;36m<module>\u001b[0;34m()\u001b[0m\n\u001b[1;32m     20\u001b[0m \u001b[0mnb2\u001b[0m\u001b[0;34m.\u001b[0m\u001b[0mvisualize\u001b[0m\u001b[0;34m(\u001b[0m\u001b[0;34m\"generative_result_shared_covariances.png\"\u001b[0m\u001b[0;34m)\u001b[0m\u001b[0;34m\u001b[0m\u001b[0m\n\u001b[1;32m     21\u001b[0m \u001b[0;34m\u001b[0m\u001b[0m\n\u001b[0;32m---> 22\u001b[0;31m \u001b[0mlr\u001b[0m \u001b[0;34m=\u001b[0m \u001b[0mLogisticRegression\u001b[0m\u001b[0;34m(\u001b[0m\u001b[0meta\u001b[0m\u001b[0;34m=\u001b[0m\u001b[0meta\u001b[0m\u001b[0;34m,\u001b[0m \u001b[0mlambda_parameter\u001b[0m\u001b[0;34m=\u001b[0m\u001b[0mlambda_parameter\u001b[0m\u001b[0;34m)\u001b[0m\u001b[0;34m\u001b[0m\u001b[0m\n\u001b[0m\u001b[1;32m     23\u001b[0m \u001b[0mlr\u001b[0m\u001b[0;34m.\u001b[0m\u001b[0mfit\u001b[0m\u001b[0;34m(\u001b[0m\u001b[0mX\u001b[0m\u001b[0;34m,\u001b[0m\u001b[0mY\u001b[0m\u001b[0;34m)\u001b[0m\u001b[0;34m\u001b[0m\u001b[0m\n\u001b[1;32m     24\u001b[0m \u001b[0mlr\u001b[0m\u001b[0;34m.\u001b[0m\u001b[0mvisualize\u001b[0m\u001b[0;34m(\u001b[0m\u001b[0;34m'logistic_regression_result.png'\u001b[0m\u001b[0;34m)\u001b[0m\u001b[0;34m\u001b[0m\u001b[0m\n",
      "\u001b[0;31mNameError\u001b[0m: name 'LogisticRegression' is not defined"
     ]
    }
   ],
   "source": [
    "eta = .01\n",
    "lambda_parameter = 10\n",
    "\n",
    "\n",
    "# Do not change anything below this line!!\n",
    "# -----------------------------------------------------------------\n",
    "\n",
    "# Read from file and extract X and Y\n",
    "df = pd.read_csv(\"fruit.csv\")\n",
    "X = df[['width', 'height']].values\n",
    "Y = (df['fruit'] - 1).values\n",
    "\n",
    "nb1 = GaussianGenerativeModel(isSharedCovariance=False)\n",
    "print nb1.fit(X,Y)\n",
    "print nb1.predict(X)\n",
    "nb1.visualize(\"generative_result_separate_covariances.png\")\n",
    "\n",
    "nb2 = GaussianGenerativeModel(isSharedCovariance=True)\n",
    "nb2.fit(X,Y)\n",
    "nb2.visualize(\"generative_result_shared_covariances.png\")\n",
    "\n",
    "lr = LogisticRegression(eta=eta, lambda_parameter=lambda_parameter)\n",
    "lr.fit(X,Y)\n",
    "lr.visualize('logistic_regression_result.png')"
   ]
  },
  {
   "cell_type": "code",
   "execution_count": 64,
   "metadata": {
    "collapsed": false,
    "deletable": true,
    "editable": true
   },
   "outputs": [
    {
     "name": "stdout",
     "output_type": "stream",
     "text": [
      "[[ 8.4  7.3]\n",
      " [ 8.   6.8]\n",
      " [ 7.4  7.2]\n",
      " [ 7.1  7.8]\n",
      " [ 7.4  7. ]\n",
      " [ 6.9  7.3]\n",
      " [ 7.1  7.6]\n",
      " [ 7.   7.1]\n",
      " [ 7.3  7.7]\n",
      " [ 7.6  7.3]\n",
      " [ 7.7  7.1]\n",
      " [ 7.6  7.5]\n",
      " [ 7.5  7.6]\n",
      " [ 7.5  7.1]\n",
      " [ 7.4  7.2]\n",
      " [ 7.5  7.5]\n",
      " [ 7.4  7.4]\n",
      " [ 7.3  7.1]\n",
      " [ 7.6  7.9]]\n",
      "(19, 2)\n",
      "(59,)\n"
     ]
    },
    {
     "data": {
      "text/plain": [
       "<matplotlib.collections.PathCollection at 0x134be5610>"
      ]
     },
     "execution_count": 64,
     "metadata": {},
     "output_type": "execute_result"
    },
    {
     "data": {
      "image/png": "[encoded data removed]",
      "text/plain": [
       "<matplotlib.figure.Figure at 0x10ffd6190>"
      ]
     },
     "metadata": {},
     "output_type": "display_data"
    }
   ],
   "source": [
    "c1 = X[Y==0]\n",
    "c2 = X[Y==1]\n",
    "c3 = X[Y==2]\n",
    "print c1\n",
    "print c1.shape\n",
    "print Y.shape\n",
    "plt.scatter(c1[:,0],c1[:,1],color=\"red\")\n",
    "plt.scatter(c2[:,0],c2[:,1],color=\"blue\")\n",
    "plt.scatter(c3[:,0],c3[:,1],color=\"green\")"
   ]
  },
  {
   "cell_type": "code",
   "execution_count": null,
   "metadata": {
    "collapsed": true,
    "deletable": true,
    "editable": true
   },
   "outputs": [],
   "source": []
  }
 ],
 "metadata": {
  "hide_input": false,
  "kernelspec": {
   "display_name": "Python 2",
   "language": "python",
   "name": "python2"
  },
  "language_info": {
   "codemirror_mode": {
    "name": "ipython",
    "version": 2
   },
   "file_extension": ".py",
   "mimetype": "text/x-python",
   "name": "python",
   "nbconvert_exporter": "python",
   "pygments_lexer": "ipython2",
   "version": "2.7.13"
  },
  "latex_envs": {
   "bibliofile": "biblio.bib",
   "cite_by": "apalike",
   "current_citInitial": 1,
   "eqLabelWithNumbers": true,
   "eqNumInitial": 0
  },
  "toc": {
   "toc_cell": false,
   "toc_number_sections": true,
   "toc_threshold": 6,
   "toc_window_display": false
  }
 },
 "nbformat": 4,
 "nbformat_minor": 0
}
