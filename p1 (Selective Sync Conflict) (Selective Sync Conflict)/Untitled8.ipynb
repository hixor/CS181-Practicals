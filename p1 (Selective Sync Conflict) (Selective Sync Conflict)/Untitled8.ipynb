{
 "cells": [
  {
   "cell_type": "code",
   "execution_count": 46,
   "metadata": {
    "collapsed": true
   },
   "outputs": [],
   "source": [
    "import math\n",
    "import numpy as np"
   ]
  },
  {
   "cell_type": "code",
   "execution_count": 22,
   "metadata": {
    "collapsed": false
   },
   "outputs": [],
   "source": [
    "def func(n):\n",
    "    if n == 1:\n",
    "        return 0\n",
    "    if n == 2:\n",
    "        return 1\n",
    "    else:\n",
    "        return func(n/2) + func(n/2+1) + n - 1"
   ]
  },
  {
   "cell_type": "code",
   "execution_count": 25,
   "metadata": {
    "collapsed": false
   },
   "outputs": [
    {
     "data": {
      "text/plain": [
       "3"
      ]
     },
     "execution_count": 25,
     "metadata": {},
     "output_type": "execute_result"
    }
   ],
   "source": [
    "5/2 +1"
   ]
  },
  {
   "cell_type": "code",
   "execution_count": 87,
   "metadata": {
    "collapsed": false
   },
   "outputs": [],
   "source": [
    "nums = []\n",
    "evens = []\n",
    "odds = []\n",
    "for i in range(1,100):\n",
    "    nums.append(func(i))\n",
    "    if i%2==0:\n",
    "        evens.append(func(i))\n",
    "    else:\n",
    "        odds.append(func(i))"
   ]
  },
  {
   "cell_type": "code",
   "execution_count": 84,
   "metadata": {
    "collapsed": true
   },
   "outputs": [
    {
     "data": {
      "text/plain": [
       "[0,\n",
       " 1,\n",
       " 3,\n",
       " 7,\n",
       " 8,\n",
       " 15,\n",
       " 16,\n",
       " 22,\n",
       " 23,\n",
       " 32,\n",
       " 33,\n",
       " 42,\n",
       " 43,\n",
       " 51,\n",
       " 52,\n",
       " 60,\n",
       " 61,\n",
       " 72,\n",
       " 73,\n",
       " 84,\n",
       " 85,\n",
       " 96,\n",
       " 97,\n",
       " 108,\n",
       " 109,\n",
       " 119,\n",
       " 120,\n",
       " 130,\n",
       " 131,\n",
       " 141,\n",
       " 142,\n",
       " 152,\n",
       " 153,\n",
       " 166,\n",
       " 167,\n",
       " 180,\n",
       " 181,\n",
       " 194,\n",
       " 195,\n",
       " 208,\n",
       " 209,\n",
       " 222,\n",
       " 223,\n",
       " 236,\n",
       " 237,\n",
       " 250,\n",
       " 251,\n",
       " 264,\n",
       " 265]"
      ]
     },
     "execution_count": 84,
     "metadata": {},
     "output_type": "execute_result"
    }
   ],
   "source": [
    "nums"
   ]
  },
  {
   "cell_type": "code",
   "execution_count": 76,
   "metadata": {
    "collapsed": true
   },
   "outputs": [
    {
     "data": {
      "text/plain": [
       "[0,\n",
       " 3,\n",
       " 8,\n",
       " 16,\n",
       " 23,\n",
       " 33,\n",
       " 43,\n",
       " 52,\n",
       " 61,\n",
       " 73,\n",
       " 85,\n",
       " 97,\n",
       " 109,\n",
       " 120,\n",
       " 131,\n",
       " 142,\n",
       " 153,\n",
       " 167,\n",
       " 181,\n",
       " 195,\n",
       " 209,\n",
       " 223,\n",
       " 237,\n",
       " 251,\n",
       " 265]"
      ]
     },
     "execution_count": 76,
     "metadata": {},
     "output_type": "execute_result"
    }
   ],
   "source": [
    "odds"
   ]
  },
  {
   "cell_type": "code",
   "execution_count": 77,
   "metadata": {
    "collapsed": true
   },
   "outputs": [],
   "source": [
    "def evens(n):\n",
    "    return n*math.log(n,2)+n"
   ]
  },
  {
   "cell_type": "code",
   "execution_count": 88,
   "metadata": {
    "collapsed": false
   },
   "outputs": [],
   "source": [
    "diffs = []\n",
    "for i in range(len(nums)-1):\n",
    "    diffs.append(nums[i+1]-nums[i])"
   ]
  },
  {
   "cell_type": "code",
   "execution_count": 113,
   "metadata": {
    "collapsed": false
   },
   "outputs": [
    {
     "data": {
      "text/plain": [
       "array([ 1,  2,  4,  1,  7,  1,  6,  1,  9,  1,  9,  1,  8,  1,  8,  1, 11,\n",
       "        1, 11,  1, 11,  1, 11,  1, 10,  1, 10,  1, 10,  1, 10,  1, 13,  1,\n",
       "       13,  1, 13,  1, 13,  1, 13,  1, 13,  1, 13,  1, 13,  1, 12,  1, 12,\n",
       "        1, 12,  1, 12,  1, 12,  1, 12,  1, 12,  1, 12,  1, 15,  1, 15,  1,\n",
       "       15,  1, 15,  1, 15,  1, 15,  1, 15,  1, 15,  1, 15,  1, 15,  1, 15,\n",
       "        1, 15,  1, 15,  1, 15,  1, 15,  1, 15,  1, 14,  1])"
      ]
     },
     "execution_count": 113,
     "metadata": {},
     "output_type": "execute_result"
    }
   ],
   "source": [
    "np.array(diffs)\n"
   ]
  },
  {
   "cell_type": "code",
   "execution_count": 112,
   "metadata": {
    "collapsed": false
   },
   "outputs": [
    {
     "name": "stdout",
     "output_type": "stream",
     "text": [
      "2.0\n",
      "1\n",
      "5\n",
      "1\n",
      "4\n",
      "1\n",
      "7\n",
      "1\n",
      "6\n",
      "1\n",
      "9\n",
      "1\n",
      "8\n",
      "1\n",
      "11\n",
      "1\n",
      "10\n",
      "1\n",
      "13\n",
      "1\n",
      "12\n",
      "1\n",
      "15\n",
      "1\n",
      "14\n",
      "1\n",
      "17\n",
      "1\n",
      "16\n",
      "1\n",
      "19\n",
      "1\n",
      "18\n",
      "1\n",
      "21\n",
      "1\n",
      "20\n",
      "1\n",
      "23\n",
      "1\n",
      "22\n",
      "1\n",
      "25\n",
      "1\n",
      "24\n",
      "1\n",
      "27\n",
      "1\n",
      "26\n",
      "1\n",
      "29\n",
      "1\n",
      "28\n",
      "1\n",
      "31\n",
      "1\n",
      "30\n",
      "1\n",
      "33\n",
      "1\n",
      "32\n",
      "1\n",
      "35\n",
      "1\n",
      "34\n",
      "1\n",
      "37\n",
      "1\n",
      "36\n",
      "1\n",
      "39\n",
      "1\n",
      "38\n",
      "1\n",
      "41\n",
      "1\n",
      "40\n",
      "1\n",
      "43\n",
      "1\n",
      "42\n",
      "1\n",
      "45\n",
      "1\n",
      "44\n",
      "1\n",
      "47\n",
      "1\n",
      "46\n",
      "1\n",
      "49\n",
      "1\n",
      "48\n",
      "1\n",
      "51\n",
      "1\n",
      "50\n",
      "1\n",
      "53\n",
      "1\n"
     ]
    }
   ],
   "source": [
    "for i in range(100):\n",
    "    print ((1-(-1)**(i-1))/2)*(i/2 - (-1)**(i/2) +3 )+(1-(-1)**(i))/2"
   ]
  },
  {
   "cell_type": "code",
   "execution_count": 82,
   "metadata": {
    "collapsed": false
   },
   "outputs": [],
   "source": [
    "pows = [2**x for x in range(10)]"
   ]
  },
  {
   "cell_type": "code",
   "execution_count": 52,
   "metadata": {
    "collapsed": false
   },
   "outputs": [
    {
     "data": {
      "text/plain": [
       "array([ 1,  2,  4,  1,  7,  1,  6,  1,  9,  1,  9,  1,  8,  1,  8,  1, 11,\n",
       "        1, 11,  1, 11,  1, 11,  1, 10,  1, 10,  1])"
      ]
     },
     "execution_count": 52,
     "metadata": {},
     "output_type": "execute_result"
    }
   ],
   "source": [
    "diffs = np.array(diffs)\n",
    "diffs"
   ]
  },
  {
   "cell_type": "code",
   "execution_count": 38,
   "metadata": {
    "collapsed": false
   },
   "outputs": [],
   "source": [
    "logs = []\n",
    "for i in range(1,len(nums)-1):\n",
    "    logs.append(math.log(i,2))"
   ]
  },
  {
   "cell_type": "code",
   "execution_count": 48,
   "metadata": {
    "collapsed": true
   },
   "outputs": [],
   "source": [
    "logs = np.array(logs)"
   ]
  },
  {
   "cell_type": "code",
   "execution_count": 41,
   "metadata": {
    "collapsed": true
   },
   "outputs": [],
   "source": [
    "ceil_logs = []\n",
    "for log in logs:\n",
    "    ceil_logs.append(math.ceil(log))"
   ]
  },
  {
   "cell_type": "code",
   "execution_count": 43,
   "metadata": {
    "collapsed": false
   },
   "outputs": [],
   "source": [
    "powers = []\n",
    "for ceil in ceil_logs:\n",
    "    powers.append(2**ceil)"
   ]
  },
  {
   "cell_type": "code",
   "execution_count": 91,
   "metadata": {
    "collapsed": false
   },
   "outputs": [],
   "source": [
    "test1 = []\n",
    "for i in range(len(powers)):\n",
    "    test1.append(powers[i]*(i/2 -(-1)**(i/2)+4))"
   ]
  },
  {
   "cell_type": "code",
   "execution_count": 96,
   "metadata": {
    "collapsed": true
   },
   "outputs": [],
   "source": [
    "test2 = []\n",
    "for i in range(80):\n",
    "    test2.append(i*(i/2 -(-1)**(i/2)+4))"
   ]
  },
  {
   "cell_type": "code",
   "execution_count": 100,
   "metadata": {
    "collapsed": false
   },
   "outputs": [
    {
     "data": {
      "text/plain": [
       "array([   0,    2,    9,   11,   12,   10,   32,   34,   33,   31,   67,\n",
       "         68,   65,   66,  116,  120,  115,  115,  179,  182,  175,  177,\n",
       "        255,  260,  251,  256,  348,  356,  345,  352,  458,  468,  455,\n",
       "        461,  581,  590,  575,  583,  717,  728,  711,  721,  869,  882,\n",
       "        863,  875, 1037, 1052, 1031, 1046, 1222, 1240, 1217, 1234, 1424,\n",
       "       1444, 1419, 1438, 1642, 1664, 1637, 1658, 1876, 1900, 1871, 1891,\n",
       "       2123, 2146, 2115, 2137, 2383, 2408, 2375, 2399, 2659, 2686, 2651,\n",
       "       2677, 2951, 2980])"
      ]
     },
     "execution_count": 100,
     "metadata": {},
     "output_type": "execute_result"
    }
   ],
   "source": [
    "np.array(test2)-nums[:80]"
   ]
  },
  {
   "cell_type": "code",
   "execution_count": 93,
   "metadata": {
    "collapsed": false
   },
   "outputs": [],
   "source": [
    "test1=np.array(test1)"
   ]
  },
  {
   "cell_type": "code",
   "execution_count": 95,
   "metadata": {
    "collapsed": false
   },
   "outputs": [
    {
     "data": {
      "text/plain": [
       "array([   3.,    5.,   21.,   17.,   32.,   25.,   48.,   42.,   89.,\n",
       "         80.,  127.,  118.,  101.,   93.,  140.,  132.,  291.,  280.,\n",
       "        375.,  364.,  331.,  320.,  415.,  404.,  371.,  361.,  456.])"
      ]
     },
     "execution_count": 95,
     "metadata": {},
     "output_type": "execute_result"
    }
   ],
   "source": [
    "test1-nums[:27]"
   ]
  },
  {
   "cell_type": "code",
   "execution_count": 53,
   "metadata": {
    "collapsed": false
   },
   "outputs": [
    {
     "data": {
      "text/plain": [
       "array([  1.,   2.,   4.,   4.,   8.,   8.,   8.,   8.,  16.,  16.,  16.,\n",
       "        16.,  16.,  16.,  16.,  16.,  32.,  32.,  32.,  32.,  32.,  32.,\n",
       "        32.,  32.,  32.,  32.,  32.])"
      ]
     },
     "execution_count": 53,
     "metadata": {},
     "output_type": "execute_result"
    }
   ],
   "source": [
    "powers = np.array(powers)\n",
    "powers"
   ]
  },
  {
   "cell_type": "code",
   "execution_count": 50,
   "metadata": {
    "collapsed": false
   },
   "outputs": [],
   "source": [
    "ceils = np.array(ceil_logs)"
   ]
  },
  {
   "cell_type": "code",
   "execution_count": 74,
   "metadata": {
    "collapsed": false
   },
   "outputs": [
    {
     "data": {
      "text/plain": [
       "[<matplotlib.lines.Line2D at 0x105e47c50>]"
      ]
     },
     "execution_count": 74,
     "metadata": {},
     "output_type": "execute_result"
    },
    {
     "data": {
      "image/png": "[encoded data removed]",
      "text/plain": [
       "<matplotlib.figure.Figure at 0x10604d0d0>"
      ]
     },
     "metadata": {},
     "output_type": "display_data"
    }
   ],
   "source": [
    "plt.plot(range(27),powers-diffs[:27])"
   ]
  },
  {
   "cell_type": "code",
   "execution_count": 75,
   "metadata": {
    "collapsed": false
   },
   "outputs": [
    {
     "data": {
      "text/plain": [
       "array([  0.,   0.,   0.,   3.,   1.,   7.,   2.,   7.,   7.,  15.,   7.,\n",
       "        15.,   8.,  15.,   8.,  15.,  21.,  31.,  21.,  31.,  21.,  31.,\n",
       "        21.,  31.,  22.,  31.,  22.])"
      ]
     },
     "execution_count": 75,
     "metadata": {},
     "output_type": "execute_result"
    }
   ],
   "source": [
    "powers-diffs[:27]"
   ]
  },
  {
   "cell_type": "code",
   "execution_count": 55,
   "metadata": {
    "collapsed": true
   },
   "outputs": [],
   "source": [
    "import matplotlib.pyplot as plt\n",
    "%matplotlib inline"
   ]
  },
  {
   "cell_type": "code",
   "execution_count": 73,
   "metadata": {
    "collapsed": false
   },
   "outputs": [
    {
     "data": {
      "image/png": "[encoded data removed]",
      "text/plain": [
       "<matplotlib.figure.Figure at 0x1060702d0>"
      ]
     },
     "metadata": {},
     "output_type": "display_data"
    },
    {
     "data": {
      "image/png": "[encoded data removed]",
      "text/plain": [
       "<matplotlib.figure.Figure at 0x106070690>"
      ]
     },
     "metadata": {},
     "output_type": "display_data"
    }
   ],
   "source": [
    "plt.plot(range(len(nums)),nums)\n",
    "fig1 = plt.figure()\n",
    "fig1 = plt.scatter(range(len(nums)/2),evens)\n",
    "fig2 = plt.scatter(range(len(nums)/2+1),odds)"
   ]
  },
  {
   "cell_type": "code",
   "execution_count": 106,
   "metadata": {
    "collapsed": false
   },
   "outputs": [
    {
     "name": "stdout",
     "output_type": "stream",
     "text": [
      "3.0\n",
      "1\n",
      "6\n",
      "1\n",
      "5\n",
      "1\n",
      "8\n",
      "1\n",
      "7\n",
      "1\n",
      "10\n",
      "1\n",
      "9\n",
      "1\n",
      "12\n",
      "1\n",
      "11\n",
      "1\n",
      "14\n",
      "1\n",
      "13\n",
      "1\n",
      "16\n",
      "1\n",
      "15\n",
      "1\n",
      "18\n",
      "1\n",
      "17\n",
      "1\n",
      "20\n",
      "1\n",
      "19\n",
      "1\n",
      "22\n",
      "1\n",
      "21\n",
      "1\n",
      "24\n",
      "1\n",
      "23\n",
      "1\n",
      "26\n",
      "1\n",
      "25\n",
      "1\n",
      "28\n",
      "1\n",
      "27\n",
      "1\n",
      "30\n",
      "1\n",
      "29\n",
      "1\n",
      "32\n",
      "1\n",
      "31\n",
      "1\n",
      "34\n",
      "1\n",
      "33\n",
      "1\n",
      "36\n",
      "1\n",
      "35\n",
      "1\n",
      "38\n",
      "1\n",
      "37\n",
      "1\n",
      "40\n",
      "1\n",
      "39\n",
      "1\n",
      "42\n",
      "1\n",
      "41\n",
      "1\n",
      "44\n",
      "1\n",
      "43\n",
      "1\n",
      "46\n",
      "1\n",
      "45\n",
      "1\n",
      "48\n",
      "1\n",
      "47\n",
      "1\n",
      "50\n",
      "1\n",
      "49\n",
      "1\n",
      "52\n",
      "1\n",
      "51\n",
      "1\n",
      "54\n",
      "1\n"
     ]
    }
   ],
   "source": [
    "for i in range(100):\n",
    "    print ((1-(-1)**(i-1))/2)*(i/2 - (-1)**(i/2) +4)+(1-(-1)**(i))/2"
   ]
  },
  {
   "cell_type": "code",
   "execution_count": null,
   "metadata": {
    "collapsed": true
   },
   "outputs": [],
   "source": []
  }
 ],
 "metadata": {
  "kernelspec": {
   "display_name": "Python 2",
   "language": "python",
   "name": "python2"
  },
  "language_info": {
   "codemirror_mode": {
    "name": "ipython",
    "version": 2
   },
   "file_extension": ".py",
   "mimetype": "text/x-python",
   "name": "python",
   "nbconvert_exporter": "python",
   "pygments_lexer": "ipython2",
   "version": "2.7.13"
  }
 },
 "nbformat": 4,
 "nbformat_minor": 2
}
